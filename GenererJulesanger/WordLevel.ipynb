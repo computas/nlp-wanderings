{
  "nbformat": 4,
  "nbformat_minor": 0,
  "metadata": {
    "kernelspec": {
      "display_name": "Python 3",
      "language": "python",
      "name": "python3"
    },
    "language_info": {
      "codemirror_mode": {
        "name": "ipython",
        "version": 3
      },
      "file_extension": ".py",
      "mimetype": "text/x-python",
      "name": "python",
      "nbconvert_exporter": "python",
      "pygments_lexer": "ipython3",
      "version": "3.7.7"
    },
    "colab": {
      "name": "WordLevel.ipynb",
      "provenance": [],
      "include_colab_link": true
    },
    "accelerator": "GPU"
  },
  "cells": [
    {
      "cell_type": "markdown",
      "metadata": {
        "id": "view-in-github",
        "colab_type": "text"
      },
      "source": [
        "<a href=\"https://colab.research.google.com/github/computas/nlp-wanderings/blob/master/GenererJulesanger/WordLevel.ipynb\" target=\"_parent\"><img src=\"https://colab.research.google.com/assets/colab-badge.svg\" alt=\"Open In Colab\"/></a>"
      ]
    },
    {
      "cell_type": "code",
      "metadata": {
        "id": "WpEXtnaUaaVf"
      },
      "source": [
        "from numpy import array\n",
        "from pickle import dump\n",
        "from keras.preprocessing.text import Tokenizer\n",
        "from keras.utils import to_categorical\n",
        "from tensorflow.keras import Sequential\n",
        "from keras.layers import Dense\n",
        "from keras.layers import LSTM\n",
        "from keras.layers import Embedding\n",
        "from keras.layers import Dropout\n",
        "from random import randint\n",
        "from pickle import load\n",
        "from keras.models import load_model\n",
        "from keras.preprocessing.sequence import pad_sequences\n",
        "from random import randint\n",
        "from pickle import load\n",
        "from keras.models import load_model\n",
        "from keras.preprocessing.sequence import pad_sequences\n",
        "import string"
      ],
      "execution_count": 171,
      "outputs": []
    },
    {
      "cell_type": "code",
      "metadata": {
        "id": "i4VHr1ehaaVm",
        "outputId": "ac13ed3b-e0d0-4e68-fbe1-123ee88bbfcb",
        "colab": {
          "base_uri": "https://localhost:8080/",
          "height": 34
        }
      },
      "source": [
        "import tensorflow as tf\n",
        "print(tf.__version__)"
      ],
      "execution_count": 172,
      "outputs": [
        {
          "output_type": "stream",
          "text": [
            "2.3.0\n"
          ],
          "name": "stdout"
        }
      ]
    },
    {
      "cell_type": "code",
      "metadata": {
        "id": "PSoFLQgxeVIH",
        "outputId": "1759b917-33e7-45fa-9416-845a68cfa009",
        "colab": {
          "base_uri": "https://localhost:8080/",
          "height": 476
        }
      },
      "source": [
        "from tensorflow.python.client import device_lib\n",
        "device_lib.list_local_devices()"
      ],
      "execution_count": 173,
      "outputs": [
        {
          "output_type": "execute_result",
          "data": {
            "text/plain": [
              "[name: \"/device:CPU:0\"\n",
              " device_type: \"CPU\"\n",
              " memory_limit: 268435456\n",
              " locality {\n",
              " }\n",
              " incarnation: 12065751017464445631, name: \"/device:XLA_CPU:0\"\n",
              " device_type: \"XLA_CPU\"\n",
              " memory_limit: 17179869184\n",
              " locality {\n",
              " }\n",
              " incarnation: 14615040957960569561\n",
              " physical_device_desc: \"device: XLA_CPU device\", name: \"/device:XLA_GPU:0\"\n",
              " device_type: \"XLA_GPU\"\n",
              " memory_limit: 17179869184\n",
              " locality {\n",
              " }\n",
              " incarnation: 8536081743820423186\n",
              " physical_device_desc: \"device: XLA_GPU device\", name: \"/device:GPU:0\"\n",
              " device_type: \"GPU\"\n",
              " memory_limit: 11146783616\n",
              " locality {\n",
              "   bus_id: 1\n",
              "   links {\n",
              "   }\n",
              " }\n",
              " incarnation: 8779919600862067201\n",
              " physical_device_desc: \"device: 0, name: Tesla K80, pci bus id: 0000:00:04.0, compute capability: 3.7\"]"
            ]
          },
          "metadata": {
            "tags": []
          },
          "execution_count": 173
        }
      ]
    },
    {
      "cell_type": "code",
      "metadata": {
        "id": "fwMgzy8FacMr",
        "outputId": "2a5df05a-b085-4a40-ca9e-31418d44eba6",
        "colab": {
          "base_uri": "https://localhost:8080/",
          "height": 34
        }
      },
      "source": [
        "from google.colab import drive\n",
        "drive.mount('/content/drive')"
      ],
      "execution_count": 174,
      "outputs": [
        {
          "output_type": "stream",
          "text": [
            "Drive already mounted at /content/drive; to attempt to forcibly remount, call drive.mount(\"/content/drive\", force_remount=True).\n"
          ],
          "name": "stdout"
        }
      ]
    },
    {
      "cell_type": "code",
      "metadata": {
        "id": "FYIEGPKxayTj",
        "outputId": "159c0ec0-3d04-4d5f-e68b-e41ea0590b3f",
        "colab": {
          "base_uri": "https://localhost:8080/",
          "height": 51
        }
      },
      "source": [
        "!ls \"/content/drive/My Drive/Julegenser\"\n",
        "!pwd"
      ],
      "execution_count": 175,
      "outputs": [
        {
          "output_type": "stream",
          "text": [
            "julesanger.txt\n",
            "/content\n"
          ],
          "name": "stdout"
        }
      ]
    },
    {
      "cell_type": "code",
      "metadata": {
        "id": "XdTLrR6zaaVr"
      },
      "source": [
        "# load doc into memory\n",
        "def load_doc(filename):\n",
        "    #open the file as read only\n",
        "    file = open(filename, 'r')\n",
        "    # read all text\n",
        "    text = file.read()\n",
        "    # close the file\n",
        "    file.close()\n",
        "    return text"
      ],
      "execution_count": 176,
      "outputs": []
    },
    {
      "cell_type": "code",
      "metadata": {
        "id": "Y5deJW3XaaVu"
      },
      "source": [
        "# turn a doc into clean tokens\n",
        "def clean_doc(doc):\n",
        "    # replace '--' with a space ' '\n",
        "    doc = doc.replace('--', ' ')\n",
        "    # split into tokens by white space\n",
        "    tokens = doc.split()\n",
        "    # remove punctuation from each token\n",
        "    table = str.maketrans('', '', string.punctuation)\n",
        "    tokens = [w.translate(table) for w in tokens]\n",
        "    # remove remaining tokens that are not alphabetic\n",
        "    tokens = [word for word in tokens if word.isalpha()]\n",
        "    # make lower case\n",
        "    tokens = [word.lower() for word in tokens]\n",
        "    return tokens"
      ],
      "execution_count": 177,
      "outputs": []
    },
    {
      "cell_type": "code",
      "metadata": {
        "id": "YDf89H65aaVx"
      },
      "source": [
        "# save tokens to file, one dialog per line\n",
        "def save_doc(lines, filename):\n",
        "    data = '\\n'.join(lines)\n",
        "    file = open(filename, 'w')\n",
        "    file.write(data)\n",
        "    file.close()"
      ],
      "execution_count": 178,
      "outputs": []
    },
    {
      "cell_type": "code",
      "metadata": {
        "id": "0Yz6xfaKaaV0"
      },
      "source": [
        "# load document and clean document\n",
        "in_filename = '/content/drive/My Drive/Julegenser/julesanger.txt'\n",
        "doc = load_doc(in_filename)\n",
        "tokens = clean_doc(doc)"
      ],
      "execution_count": 179,
      "outputs": []
    },
    {
      "cell_type": "code",
      "metadata": {
        "id": "mMUfFVzraaV3"
      },
      "source": [
        "# organize into sequences of tokens\n",
        "length = 8 + 1\n",
        "sequences = list()\n",
        "for i in range(length, len(tokens)):\n",
        "    # select sequence of tokens\n",
        "    seq = tokens[i-length:i]\n",
        "    # convert into a line\n",
        "    line = ' '.join(seq)\n",
        "    sequences.append(line)"
      ],
      "execution_count": 180,
      "outputs": []
    },
    {
      "cell_type": "code",
      "metadata": {
        "id": "WGvkJP8saaV7"
      },
      "source": [
        "# save sequences to file\n",
        "out_filename = 'julesanger_sequences.txt'\n",
        "save_doc(sequences, out_filename)"
      ],
      "execution_count": 181,
      "outputs": []
    },
    {
      "cell_type": "code",
      "metadata": {
        "id": "K-KleysxaaV-"
      },
      "source": [
        "# load\n",
        "in_filename = 'julesanger_sequences.txt'\n",
        "seq_doc = load_doc(in_filename)\n",
        "lines = seq_doc.split('\\n')\n",
        " \n",
        "# integer encode sequences of words\n",
        "tokenizer = Tokenizer()\n",
        "tokenizer.fit_on_texts(lines)\n",
        "sequences = tokenizer.texts_to_sequences(lines)\n",
        "# vocabulary size\n",
        "vocab_size = len(tokenizer.word_index) + 1\n",
        " "
      ],
      "execution_count": 182,
      "outputs": []
    },
    {
      "cell_type": "code",
      "metadata": {
        "id": "ZlXhpkAfaaWA"
      },
      "source": [
        "sequences = array(sequences)\n",
        "X, y = sequences[:,:-1], sequences[:,-1]\n",
        "y = to_categorical(y, num_classes=vocab_size)\n",
        "seq_length = X.shape[1]"
      ],
      "execution_count": 183,
      "outputs": []
    },
    {
      "cell_type": "code",
      "metadata": {
        "id": "vDxu5n1faaWD"
      },
      "source": [
        ""
      ],
      "execution_count": 138,
      "outputs": []
    },
    {
      "cell_type": "code",
      "metadata": {
        "id": "00VK7YTjaaWF",
        "outputId": "ace1e700-caec-4424-aa7a-51f8d6a17ad6",
        "colab": {
          "base_uri": "https://localhost:8080/",
          "height": 1000
        }
      },
      "source": [
        "# define model\n",
        "model = Sequential()\n",
        "model.add(Embedding(vocab_size, 10, input_length=seq_length))\n",
        "model.add(LSTM(100, return_sequences=True))\n",
        "model.add(LSTM(100))\n",
        "model.add(Dropout(0.1))\n",
        "model.add(Dense(100, activation='relu'))\n",
        "\n",
        "model.add(Dense(vocab_size, activation='softmax'))\n",
        "print(model.summary())\n",
        "# compile model\n",
        "model.compile(loss='categorical_crossentropy', optimizer='adam', metrics=['accuracy'])\n",
        "# fit model\n",
        "model.fit(X, y, batch_size=128, epochs=200)\n",
        " \n",
        "# save the model to file\n",
        "model.save('model.h5')\n",
        "# save the tokenizer\n",
        "dump(tokenizer, open('tokenizer.pkl', 'wb'))"
      ],
      "execution_count": 192,
      "outputs": [
        {
          "output_type": "stream",
          "text": [
            "Model: \"sequential_9\"\n",
            "_________________________________________________________________\n",
            "Layer (type)                 Output Shape              Param #   \n",
            "=================================================================\n",
            "embedding_9 (Embedding)      (None, 8, 10)             12680     \n",
            "_________________________________________________________________\n",
            "lstm_18 (LSTM)               (None, 8, 100)            44400     \n",
            "_________________________________________________________________\n",
            "lstm_19 (LSTM)               (None, 100)               80400     \n",
            "_________________________________________________________________\n",
            "dropout_1 (Dropout)          (None, 100)               0         \n",
            "_________________________________________________________________\n",
            "dense_18 (Dense)             (None, 100)               10100     \n",
            "_________________________________________________________________\n",
            "dense_19 (Dense)             (None, 1268)              128068    \n",
            "=================================================================\n",
            "Total params: 275,648\n",
            "Trainable params: 275,648\n",
            "Non-trainable params: 0\n",
            "_________________________________________________________________\n",
            "None\n",
            "Epoch 1/200\n",
            "38/38 [==============================] - 1s 13ms/step - loss: 6.7722 - accuracy: 0.0389\n",
            "Epoch 2/200\n",
            "38/38 [==============================] - 1s 14ms/step - loss: 6.1207 - accuracy: 0.0517\n",
            "Epoch 3/200\n",
            "38/38 [==============================] - 0s 13ms/step - loss: 6.0272 - accuracy: 0.0517\n",
            "Epoch 4/200\n",
            "38/38 [==============================] - 0s 13ms/step - loss: 5.9850 - accuracy: 0.0517\n",
            "Epoch 5/200\n",
            "38/38 [==============================] - 0s 13ms/step - loss: 5.9252 - accuracy: 0.0536\n",
            "Epoch 6/200\n",
            "38/38 [==============================] - 1s 13ms/step - loss: 5.8327 - accuracy: 0.0624\n",
            "Epoch 7/200\n",
            "38/38 [==============================] - 1s 13ms/step - loss: 5.7426 - accuracy: 0.0647\n",
            "Epoch 8/200\n",
            "38/38 [==============================] - 0s 13ms/step - loss: 5.6671 - accuracy: 0.0683\n",
            "Epoch 9/200\n",
            "38/38 [==============================] - 0s 13ms/step - loss: 5.6122 - accuracy: 0.0649\n",
            "Epoch 10/200\n",
            "38/38 [==============================] - 1s 13ms/step - loss: 5.5688 - accuracy: 0.0693\n",
            "Epoch 11/200\n",
            "38/38 [==============================] - 1s 13ms/step - loss: 5.5212 - accuracy: 0.0697\n",
            "Epoch 12/200\n",
            "38/38 [==============================] - 1s 13ms/step - loss: 5.4794 - accuracy: 0.0691\n",
            "Epoch 13/200\n",
            "38/38 [==============================] - 0s 13ms/step - loss: 5.4315 - accuracy: 0.0746\n",
            "Epoch 14/200\n",
            "38/38 [==============================] - 1s 13ms/step - loss: 5.3809 - accuracy: 0.0693\n",
            "Epoch 15/200\n",
            "38/38 [==============================] - 1s 13ms/step - loss: 5.3340 - accuracy: 0.0737\n",
            "Epoch 16/200\n",
            "38/38 [==============================] - 1s 13ms/step - loss: 5.2979 - accuracy: 0.0672\n",
            "Epoch 17/200\n",
            "38/38 [==============================] - 0s 13ms/step - loss: 5.2567 - accuracy: 0.0695\n",
            "Epoch 18/200\n",
            "38/38 [==============================] - 0s 13ms/step - loss: 5.2127 - accuracy: 0.0706\n",
            "Epoch 19/200\n",
            "38/38 [==============================] - 1s 14ms/step - loss: 5.1708 - accuracy: 0.0723\n",
            "Epoch 20/200\n",
            "38/38 [==============================] - 1s 13ms/step - loss: 5.1307 - accuracy: 0.0700\n",
            "Epoch 21/200\n",
            "38/38 [==============================] - 0s 13ms/step - loss: 5.0935 - accuracy: 0.0725\n",
            "Epoch 22/200\n",
            "38/38 [==============================] - 0s 13ms/step - loss: 5.0493 - accuracy: 0.0739\n",
            "Epoch 23/200\n",
            "38/38 [==============================] - 1s 14ms/step - loss: 5.0035 - accuracy: 0.0706\n",
            "Epoch 24/200\n",
            "38/38 [==============================] - 1s 14ms/step - loss: 4.9688 - accuracy: 0.0718\n",
            "Epoch 25/200\n",
            "38/38 [==============================] - 1s 13ms/step - loss: 4.9266 - accuracy: 0.0752\n",
            "Epoch 26/200\n",
            "38/38 [==============================] - 0s 13ms/step - loss: 4.8962 - accuracy: 0.0744\n",
            "Epoch 27/200\n",
            "38/38 [==============================] - 0s 13ms/step - loss: 4.8590 - accuracy: 0.0737\n",
            "Epoch 28/200\n",
            "38/38 [==============================] - 0s 13ms/step - loss: 4.8180 - accuracy: 0.0771\n",
            "Epoch 29/200\n",
            "38/38 [==============================] - 0s 13ms/step - loss: 4.7712 - accuracy: 0.0735\n",
            "Epoch 30/200\n",
            "38/38 [==============================] - 1s 14ms/step - loss: 4.7395 - accuracy: 0.0784\n",
            "Epoch 31/200\n",
            "38/38 [==============================] - 0s 13ms/step - loss: 4.7363 - accuracy: 0.0800\n",
            "Epoch 32/200\n",
            "38/38 [==============================] - 1s 14ms/step - loss: 4.6976 - accuracy: 0.0811\n",
            "Epoch 33/200\n",
            "38/38 [==============================] - 0s 13ms/step - loss: 4.6340 - accuracy: 0.0842\n",
            "Epoch 34/200\n",
            "38/38 [==============================] - 1s 13ms/step - loss: 4.5985 - accuracy: 0.0868\n",
            "Epoch 35/200\n",
            "38/38 [==============================] - 1s 13ms/step - loss: 4.5709 - accuracy: 0.0857\n",
            "Epoch 36/200\n",
            "38/38 [==============================] - 1s 13ms/step - loss: 4.5199 - accuracy: 0.0895\n",
            "Epoch 37/200\n",
            "38/38 [==============================] - 0s 13ms/step - loss: 4.5014 - accuracy: 0.0842\n",
            "Epoch 38/200\n",
            "38/38 [==============================] - 1s 13ms/step - loss: 4.4644 - accuracy: 0.0880\n",
            "Epoch 39/200\n",
            "38/38 [==============================] - 1s 13ms/step - loss: 4.4163 - accuracy: 0.0884\n",
            "Epoch 40/200\n",
            "38/38 [==============================] - 1s 14ms/step - loss: 4.3905 - accuracy: 0.0922\n",
            "Epoch 41/200\n",
            "38/38 [==============================] - 0s 13ms/step - loss: 4.3666 - accuracy: 0.0910\n",
            "Epoch 42/200\n",
            "38/38 [==============================] - 1s 13ms/step - loss: 4.3188 - accuracy: 0.0931\n",
            "Epoch 43/200\n",
            "38/38 [==============================] - 0s 13ms/step - loss: 4.2864 - accuracy: 0.0954\n",
            "Epoch 44/200\n",
            "38/38 [==============================] - 0s 13ms/step - loss: 4.2561 - accuracy: 0.0989\n",
            "Epoch 45/200\n",
            "38/38 [==============================] - 1s 13ms/step - loss: 4.2232 - accuracy: 0.1000\n",
            "Epoch 46/200\n",
            "38/38 [==============================] - 1s 13ms/step - loss: 4.1787 - accuracy: 0.1011\n",
            "Epoch 47/200\n",
            "38/38 [==============================] - 0s 13ms/step - loss: 4.1492 - accuracy: 0.1055\n",
            "Epoch 48/200\n",
            "38/38 [==============================] - 1s 13ms/step - loss: 4.1119 - accuracy: 0.1048\n",
            "Epoch 49/200\n",
            "38/38 [==============================] - 1s 14ms/step - loss: 4.0854 - accuracy: 0.1034\n",
            "Epoch 50/200\n",
            "38/38 [==============================] - 1s 13ms/step - loss: 4.0626 - accuracy: 0.1048\n",
            "Epoch 51/200\n",
            "38/38 [==============================] - 1s 13ms/step - loss: 4.0106 - accuracy: 0.1076\n",
            "Epoch 52/200\n",
            "38/38 [==============================] - 0s 13ms/step - loss: 4.0240 - accuracy: 0.1080\n",
            "Epoch 53/200\n",
            "38/38 [==============================] - 1s 14ms/step - loss: 3.9658 - accuracy: 0.1097\n",
            "Epoch 54/200\n",
            "38/38 [==============================] - 1s 13ms/step - loss: 3.9343 - accuracy: 0.1170\n",
            "Epoch 55/200\n",
            "38/38 [==============================] - 0s 13ms/step - loss: 3.8984 - accuracy: 0.1164\n",
            "Epoch 56/200\n",
            "38/38 [==============================] - 0s 13ms/step - loss: 3.8572 - accuracy: 0.1174\n",
            "Epoch 57/200\n",
            "38/38 [==============================] - 1s 14ms/step - loss: 3.8410 - accuracy: 0.1191\n",
            "Epoch 58/200\n",
            "38/38 [==============================] - 1s 14ms/step - loss: 3.8226 - accuracy: 0.1202\n",
            "Epoch 59/200\n",
            "38/38 [==============================] - 0s 13ms/step - loss: 3.8059 - accuracy: 0.1185\n",
            "Epoch 60/200\n",
            "38/38 [==============================] - 1s 14ms/step - loss: 3.7579 - accuracy: 0.1252\n",
            "Epoch 61/200\n",
            "38/38 [==============================] - 1s 13ms/step - loss: 3.7343 - accuracy: 0.1229\n",
            "Epoch 62/200\n",
            "38/38 [==============================] - 1s 14ms/step - loss: 3.7020 - accuracy: 0.1313\n",
            "Epoch 63/200\n",
            "38/38 [==============================] - 0s 13ms/step - loss: 3.6479 - accuracy: 0.1330\n",
            "Epoch 64/200\n",
            "38/38 [==============================] - 0s 13ms/step - loss: 3.6460 - accuracy: 0.1399\n",
            "Epoch 65/200\n",
            "38/38 [==============================] - 1s 13ms/step - loss: 3.6187 - accuracy: 0.1399\n",
            "Epoch 66/200\n",
            "38/38 [==============================] - 1s 14ms/step - loss: 3.6014 - accuracy: 0.1359\n",
            "Epoch 67/200\n",
            "38/38 [==============================] - 0s 13ms/step - loss: 3.5709 - accuracy: 0.1435\n",
            "Epoch 68/200\n",
            "38/38 [==============================] - 1s 14ms/step - loss: 3.5237 - accuracy: 0.1452\n",
            "Epoch 69/200\n",
            "38/38 [==============================] - 0s 13ms/step - loss: 3.4840 - accuracy: 0.1517\n",
            "Epoch 70/200\n",
            "38/38 [==============================] - 1s 13ms/step - loss: 3.4600 - accuracy: 0.1563\n",
            "Epoch 71/200\n",
            "38/38 [==============================] - 1s 13ms/step - loss: 3.4388 - accuracy: 0.1563\n",
            "Epoch 72/200\n",
            "38/38 [==============================] - 1s 13ms/step - loss: 3.4485 - accuracy: 0.1550\n",
            "Epoch 73/200\n",
            "38/38 [==============================] - 0s 13ms/step - loss: 3.3832 - accuracy: 0.1649\n",
            "Epoch 74/200\n",
            "38/38 [==============================] - 1s 13ms/step - loss: 3.3539 - accuracy: 0.1737\n",
            "Epoch 75/200\n",
            "38/38 [==============================] - 1s 13ms/step - loss: 3.3043 - accuracy: 0.1721\n",
            "Epoch 76/200\n",
            "38/38 [==============================] - 1s 13ms/step - loss: 3.2709 - accuracy: 0.1744\n",
            "Epoch 77/200\n",
            "38/38 [==============================] - 1s 13ms/step - loss: 3.2426 - accuracy: 0.1746\n",
            "Epoch 78/200\n",
            "38/38 [==============================] - 0s 13ms/step - loss: 3.2187 - accuracy: 0.1821\n",
            "Epoch 79/200\n",
            "38/38 [==============================] - 1s 14ms/step - loss: 3.1710 - accuracy: 0.1887\n",
            "Epoch 80/200\n",
            "38/38 [==============================] - 1s 14ms/step - loss: 3.1612 - accuracy: 0.1968\n",
            "Epoch 81/200\n",
            "38/38 [==============================] - 1s 13ms/step - loss: 3.1258 - accuracy: 0.1954\n",
            "Epoch 82/200\n",
            "38/38 [==============================] - 0s 13ms/step - loss: 3.1160 - accuracy: 0.2025\n",
            "Epoch 83/200\n",
            "38/38 [==============================] - 1s 14ms/step - loss: 3.1121 - accuracy: 0.1975\n",
            "Epoch 84/200\n",
            "38/38 [==============================] - 1s 13ms/step - loss: 3.0504 - accuracy: 0.2059\n",
            "Epoch 85/200\n",
            "38/38 [==============================] - 1s 13ms/step - loss: 3.0185 - accuracy: 0.2185\n",
            "Epoch 86/200\n",
            "38/38 [==============================] - 0s 13ms/step - loss: 2.9901 - accuracy: 0.2193\n",
            "Epoch 87/200\n",
            "38/38 [==============================] - 1s 13ms/step - loss: 2.9657 - accuracy: 0.2269\n",
            "Epoch 88/200\n",
            "38/38 [==============================] - 1s 14ms/step - loss: 2.9503 - accuracy: 0.2263\n",
            "Epoch 89/200\n",
            "38/38 [==============================] - 1s 13ms/step - loss: 2.9149 - accuracy: 0.2397\n",
            "Epoch 90/200\n",
            "38/38 [==============================] - 0s 13ms/step - loss: 2.8955 - accuracy: 0.2408\n",
            "Epoch 91/200\n",
            "38/38 [==============================] - 1s 13ms/step - loss: 2.8785 - accuracy: 0.2368\n",
            "Epoch 92/200\n",
            "38/38 [==============================] - 1s 14ms/step - loss: 2.8462 - accuracy: 0.2431\n",
            "Epoch 93/200\n",
            "38/38 [==============================] - 1s 14ms/step - loss: 2.8308 - accuracy: 0.2433\n",
            "Epoch 94/200\n",
            "38/38 [==============================] - 1s 13ms/step - loss: 2.7790 - accuracy: 0.2592\n",
            "Epoch 95/200\n",
            "38/38 [==============================] - 1s 13ms/step - loss: 2.7417 - accuracy: 0.2687\n",
            "Epoch 96/200\n",
            "38/38 [==============================] - 1s 13ms/step - loss: 2.7429 - accuracy: 0.2637\n",
            "Epoch 97/200\n",
            "38/38 [==============================] - 1s 14ms/step - loss: 2.7430 - accuracy: 0.2597\n",
            "Epoch 98/200\n",
            "38/38 [==============================] - 0s 13ms/step - loss: 2.7035 - accuracy: 0.2767\n",
            "Epoch 99/200\n",
            "38/38 [==============================] - 1s 13ms/step - loss: 2.6501 - accuracy: 0.2899\n",
            "Epoch 100/200\n",
            "38/38 [==============================] - 1s 13ms/step - loss: 2.6476 - accuracy: 0.2857\n",
            "Epoch 101/200\n",
            "38/38 [==============================] - 1s 14ms/step - loss: 2.6008 - accuracy: 0.2926\n",
            "Epoch 102/200\n",
            "38/38 [==============================] - 0s 13ms/step - loss: 2.5908 - accuracy: 0.3042\n",
            "Epoch 103/200\n",
            "38/38 [==============================] - 1s 14ms/step - loss: 2.5864 - accuracy: 0.2945\n",
            "Epoch 104/200\n",
            "38/38 [==============================] - 0s 13ms/step - loss: 2.5473 - accuracy: 0.3059\n",
            "Epoch 105/200\n",
            "38/38 [==============================] - 1s 14ms/step - loss: 2.5469 - accuracy: 0.3069\n",
            "Epoch 106/200\n",
            "38/38 [==============================] - 0s 13ms/step - loss: 2.5391 - accuracy: 0.3153\n",
            "Epoch 107/200\n",
            "38/38 [==============================] - 1s 13ms/step - loss: 2.5113 - accuracy: 0.3155\n",
            "Epoch 108/200\n",
            "38/38 [==============================] - 0s 13ms/step - loss: 2.4936 - accuracy: 0.3195\n",
            "Epoch 109/200\n",
            "38/38 [==============================] - 1s 14ms/step - loss: 2.4942 - accuracy: 0.3237\n",
            "Epoch 110/200\n",
            "38/38 [==============================] - 1s 13ms/step - loss: 2.4245 - accuracy: 0.3347\n",
            "Epoch 111/200\n",
            "38/38 [==============================] - 1s 13ms/step - loss: 2.4087 - accuracy: 0.3290\n",
            "Epoch 112/200\n",
            "38/38 [==============================] - 1s 13ms/step - loss: 2.3797 - accuracy: 0.3441\n",
            "Epoch 113/200\n",
            "38/38 [==============================] - 1s 14ms/step - loss: 2.3566 - accuracy: 0.3542\n",
            "Epoch 114/200\n",
            "38/38 [==============================] - 1s 14ms/step - loss: 2.3456 - accuracy: 0.3513\n",
            "Epoch 115/200\n",
            "38/38 [==============================] - 1s 13ms/step - loss: 2.3532 - accuracy: 0.3479\n",
            "Epoch 116/200\n",
            "38/38 [==============================] - 1s 13ms/step - loss: 2.3104 - accuracy: 0.3559\n",
            "Epoch 117/200\n",
            "38/38 [==============================] - 1s 14ms/step - loss: 2.3061 - accuracy: 0.3517\n",
            "Epoch 118/200\n",
            "38/38 [==============================] - 1s 14ms/step - loss: 2.2707 - accuracy: 0.3584\n",
            "Epoch 119/200\n",
            "38/38 [==============================] - 1s 13ms/step - loss: 2.2482 - accuracy: 0.3695\n",
            "Epoch 120/200\n",
            "38/38 [==============================] - 0s 13ms/step - loss: 2.2374 - accuracy: 0.3742\n",
            "Epoch 121/200\n",
            "38/38 [==============================] - 1s 14ms/step - loss: 2.2600 - accuracy: 0.3788\n",
            "Epoch 122/200\n",
            "38/38 [==============================] - 1s 14ms/step - loss: 2.2036 - accuracy: 0.3893\n",
            "Epoch 123/200\n",
            "38/38 [==============================] - 1s 13ms/step - loss: 2.1757 - accuracy: 0.3943\n",
            "Epoch 124/200\n",
            "38/38 [==============================] - 1s 13ms/step - loss: 2.1522 - accuracy: 0.4027\n",
            "Epoch 125/200\n",
            "38/38 [==============================] - 0s 13ms/step - loss: 2.1413 - accuracy: 0.4013\n",
            "Epoch 126/200\n",
            "38/38 [==============================] - 1s 14ms/step - loss: 2.1085 - accuracy: 0.4139\n",
            "Epoch 127/200\n",
            "38/38 [==============================] - 1s 13ms/step - loss: 2.0847 - accuracy: 0.4176\n",
            "Epoch 128/200\n",
            "38/38 [==============================] - 1s 14ms/step - loss: 2.0585 - accuracy: 0.4290\n",
            "Epoch 129/200\n",
            "38/38 [==============================] - 0s 13ms/step - loss: 2.0622 - accuracy: 0.4237\n",
            "Epoch 130/200\n",
            "38/38 [==============================] - 1s 14ms/step - loss: 2.0569 - accuracy: 0.4172\n",
            "Epoch 131/200\n",
            "38/38 [==============================] - 0s 13ms/step - loss: 2.0559 - accuracy: 0.4258\n",
            "Epoch 132/200\n",
            "38/38 [==============================] - 1s 14ms/step - loss: 2.0399 - accuracy: 0.4179\n",
            "Epoch 133/200\n",
            "38/38 [==============================] - 0s 13ms/step - loss: 2.0259 - accuracy: 0.4275\n",
            "Epoch 134/200\n",
            "38/38 [==============================] - 1s 13ms/step - loss: 1.9752 - accuracy: 0.4504\n",
            "Epoch 135/200\n",
            "38/38 [==============================] - 1s 13ms/step - loss: 1.9659 - accuracy: 0.4416\n",
            "Epoch 136/200\n",
            "38/38 [==============================] - 1s 14ms/step - loss: 1.9449 - accuracy: 0.4504\n",
            "Epoch 137/200\n",
            "38/38 [==============================] - 1s 13ms/step - loss: 1.9060 - accuracy: 0.4653\n",
            "Epoch 138/200\n",
            "38/38 [==============================] - 1s 14ms/step - loss: 1.9018 - accuracy: 0.4700\n",
            "Epoch 139/200\n",
            "38/38 [==============================] - 1s 14ms/step - loss: 1.9239 - accuracy: 0.4532\n",
            "Epoch 140/200\n",
            "38/38 [==============================] - 1s 13ms/step - loss: 1.9212 - accuracy: 0.4540\n",
            "Epoch 141/200\n",
            "38/38 [==============================] - 1s 14ms/step - loss: 1.9019 - accuracy: 0.4632\n",
            "Epoch 142/200\n",
            "38/38 [==============================] - 1s 14ms/step - loss: 1.8713 - accuracy: 0.4697\n",
            "Epoch 143/200\n",
            "38/38 [==============================] - 1s 14ms/step - loss: 1.8287 - accuracy: 0.4790\n",
            "Epoch 144/200\n",
            "38/38 [==============================] - 0s 13ms/step - loss: 1.8570 - accuracy: 0.4662\n",
            "Epoch 145/200\n",
            "38/38 [==============================] - 1s 13ms/step - loss: 1.8092 - accuracy: 0.4777\n",
            "Epoch 146/200\n",
            "38/38 [==============================] - 0s 13ms/step - loss: 1.8093 - accuracy: 0.4784\n",
            "Epoch 147/200\n",
            "38/38 [==============================] - 1s 14ms/step - loss: 1.7986 - accuracy: 0.4826\n",
            "Epoch 148/200\n",
            "38/38 [==============================] - 0s 13ms/step - loss: 1.7520 - accuracy: 0.5105\n",
            "Epoch 149/200\n",
            "38/38 [==============================] - 1s 14ms/step - loss: 1.7664 - accuracy: 0.4985\n",
            "Epoch 150/200\n",
            "38/38 [==============================] - 0s 13ms/step - loss: 1.7464 - accuracy: 0.5021\n",
            "Epoch 151/200\n",
            "38/38 [==============================] - 1s 14ms/step - loss: 1.7294 - accuracy: 0.5099\n",
            "Epoch 152/200\n",
            "38/38 [==============================] - 0s 13ms/step - loss: 1.7688 - accuracy: 0.4954\n",
            "Epoch 153/200\n",
            "38/38 [==============================] - 1s 14ms/step - loss: 1.7308 - accuracy: 0.4989\n",
            "Epoch 154/200\n",
            "38/38 [==============================] - 1s 13ms/step - loss: 1.6930 - accuracy: 0.5176\n",
            "Epoch 155/200\n",
            "38/38 [==============================] - 1s 14ms/step - loss: 1.6536 - accuracy: 0.5267\n",
            "Epoch 156/200\n",
            "38/38 [==============================] - 1s 13ms/step - loss: 1.6172 - accuracy: 0.5315\n",
            "Epoch 157/200\n",
            "38/38 [==============================] - 1s 14ms/step - loss: 1.6324 - accuracy: 0.5324\n",
            "Epoch 158/200\n",
            "38/38 [==============================] - 1s 13ms/step - loss: 1.6084 - accuracy: 0.5424\n",
            "Epoch 159/200\n",
            "38/38 [==============================] - 1s 14ms/step - loss: 1.6227 - accuracy: 0.5408\n",
            "Epoch 160/200\n",
            "38/38 [==============================] - 1s 14ms/step - loss: 1.6210 - accuracy: 0.5324\n",
            "Epoch 161/200\n",
            "38/38 [==============================] - 1s 14ms/step - loss: 1.5879 - accuracy: 0.5292\n",
            "Epoch 162/200\n",
            "38/38 [==============================] - 1s 13ms/step - loss: 1.5918 - accuracy: 0.5494\n",
            "Epoch 163/200\n",
            "38/38 [==============================] - 1s 14ms/step - loss: 1.6097 - accuracy: 0.5416\n",
            "Epoch 164/200\n",
            "38/38 [==============================] - 1s 13ms/step - loss: 1.5560 - accuracy: 0.5563\n",
            "Epoch 165/200\n",
            "38/38 [==============================] - 1s 14ms/step - loss: 1.5287 - accuracy: 0.5653\n",
            "Epoch 166/200\n",
            "38/38 [==============================] - 1s 13ms/step - loss: 1.5104 - accuracy: 0.5674\n",
            "Epoch 167/200\n",
            "38/38 [==============================] - 1s 13ms/step - loss: 1.5252 - accuracy: 0.5578\n",
            "Epoch 168/200\n",
            "38/38 [==============================] - 1s 14ms/step - loss: 1.5666 - accuracy: 0.5380\n",
            "Epoch 169/200\n",
            "38/38 [==============================] - 1s 14ms/step - loss: 1.5198 - accuracy: 0.5517\n",
            "Epoch 170/200\n",
            "38/38 [==============================] - 1s 13ms/step - loss: 1.4617 - accuracy: 0.5748\n",
            "Epoch 171/200\n",
            "38/38 [==============================] - 1s 13ms/step - loss: 1.4278 - accuracy: 0.5870\n",
            "Epoch 172/200\n",
            "38/38 [==============================] - 1s 14ms/step - loss: 1.4355 - accuracy: 0.5836\n",
            "Epoch 173/200\n",
            "38/38 [==============================] - 1s 14ms/step - loss: 1.4506 - accuracy: 0.5803\n",
            "Epoch 174/200\n",
            "38/38 [==============================] - 1s 13ms/step - loss: 1.4144 - accuracy: 0.5989\n",
            "Epoch 175/200\n",
            "38/38 [==============================] - 1s 13ms/step - loss: 1.4074 - accuracy: 0.5943\n",
            "Epoch 176/200\n",
            "38/38 [==============================] - 1s 14ms/step - loss: 1.4271 - accuracy: 0.5832\n",
            "Epoch 177/200\n",
            "38/38 [==============================] - 1s 13ms/step - loss: 1.3828 - accuracy: 0.5996\n",
            "Epoch 178/200\n",
            "38/38 [==============================] - 1s 14ms/step - loss: 1.3906 - accuracy: 0.5960\n",
            "Epoch 179/200\n",
            "38/38 [==============================] - 1s 14ms/step - loss: 1.3505 - accuracy: 0.6128\n",
            "Epoch 180/200\n",
            "38/38 [==============================] - 1s 14ms/step - loss: 1.3330 - accuracy: 0.6153\n",
            "Epoch 181/200\n",
            "38/38 [==============================] - 1s 14ms/step - loss: 1.3291 - accuracy: 0.6160\n",
            "Epoch 182/200\n",
            "38/38 [==============================] - 1s 14ms/step - loss: 1.3474 - accuracy: 0.6076\n",
            "Epoch 183/200\n",
            "38/38 [==============================] - 0s 13ms/step - loss: 1.3604 - accuracy: 0.6061\n",
            "Epoch 184/200\n",
            "38/38 [==============================] - 1s 13ms/step - loss: 1.3048 - accuracy: 0.6183\n",
            "Epoch 185/200\n",
            "38/38 [==============================] - 1s 14ms/step - loss: 1.2683 - accuracy: 0.6292\n",
            "Epoch 186/200\n",
            "38/38 [==============================] - 1s 14ms/step - loss: 1.2731 - accuracy: 0.6254\n",
            "Epoch 187/200\n",
            "38/38 [==============================] - 0s 13ms/step - loss: 1.2362 - accuracy: 0.6378\n",
            "Epoch 188/200\n",
            "38/38 [==============================] - 1s 14ms/step - loss: 1.2595 - accuracy: 0.6351\n",
            "Epoch 189/200\n",
            "38/38 [==============================] - 1s 13ms/step - loss: 1.2298 - accuracy: 0.6401\n",
            "Epoch 190/200\n",
            "38/38 [==============================] - 1s 14ms/step - loss: 1.2522 - accuracy: 0.6336\n",
            "Epoch 191/200\n",
            "38/38 [==============================] - 1s 13ms/step - loss: 1.2161 - accuracy: 0.6456\n",
            "Epoch 192/200\n",
            "38/38 [==============================] - 1s 13ms/step - loss: 1.2006 - accuracy: 0.6435\n",
            "Epoch 193/200\n",
            "38/38 [==============================] - 1s 13ms/step - loss: 1.1889 - accuracy: 0.6515\n",
            "Epoch 194/200\n",
            "38/38 [==============================] - 1s 14ms/step - loss: 1.1885 - accuracy: 0.6525\n",
            "Epoch 195/200\n",
            "38/38 [==============================] - 1s 14ms/step - loss: 1.1651 - accuracy: 0.6569\n",
            "Epoch 196/200\n",
            "38/38 [==============================] - 0s 13ms/step - loss: 1.1435 - accuracy: 0.6597\n",
            "Epoch 197/200\n",
            "38/38 [==============================] - 1s 14ms/step - loss: 1.1380 - accuracy: 0.6639\n",
            "Epoch 198/200\n",
            "38/38 [==============================] - 1s 13ms/step - loss: 1.1402 - accuracy: 0.6584\n",
            "Epoch 199/200\n",
            "38/38 [==============================] - 1s 13ms/step - loss: 1.1752 - accuracy: 0.6395\n",
            "Epoch 200/200\n",
            "38/38 [==============================] - 1s 14ms/step - loss: 1.1328 - accuracy: 0.6679\n"
          ],
          "name": "stdout"
        }
      ]
    },
    {
      "cell_type": "code",
      "metadata": {
        "id": "YsyPGR7gaaWI"
      },
      "source": [
        "# generate a sequence from a language model\n",
        "def generate_seq(model, tokenizer, seq_length, seed_text, n_words):\n",
        "    result = list()\n",
        "    in_text = seed_text\n",
        "    # generate a fixed number of words\n",
        "    for _ in range(n_words):\n",
        "        # encode the text as integer\n",
        "        encoded = tokenizer.texts_to_sequences([in_text])[0]\n",
        "        # truncate sequences to a fixed length\n",
        "        encoded = pad_sequences([encoded], maxlen=seq_length, truncating='pre')\n",
        "        # predict probabilities for each word\n",
        "        yhat = model.predict_classes(encoded, verbose=2)\n",
        "        # map predicted word index to word\n",
        "        out_word = ''\n",
        "        for word, index in tokenizer.word_index.items():\n",
        "            if index == yhat:\n",
        "                out_word = word\n",
        "                break\n",
        "        # append to input\n",
        "        in_text += ' ' + out_word\n",
        "        result.append(out_word)\n",
        "    return ' '.join(result)"
      ],
      "execution_count": 193,
      "outputs": []
    },
    {
      "cell_type": "code",
      "metadata": {
        "id": "l1u8eV6qaaWL",
        "outputId": "d24065e8-fd85-43df-b202-aae6fcb60f80",
        "colab": {
          "base_uri": "https://localhost:8080/",
          "height": 221
        }
      },
      "source": [
        "# load cleaned text sequences\n",
        "in_filename = 'julesanger_sequences.txt'\n",
        "doc = load_doc(in_filename)\n",
        "lines = doc.split('\\n')\n",
        "seq_length = len(lines[0].split()) - 1\n",
        "print(seq_length)\n",
        "# load the model\n",
        "model = load_model('model.h5')\n",
        " \n",
        "# load the tokenizer\n",
        "tokenizer = load(open('tokenizer.pkl', 'rb'))\n",
        " \n",
        "# select a seed text\n",
        "seed_text = lines[randint(0,len(lines))-4]\n",
        "print(seed_text + '\\n')\n",
        "seed_text=\"Julestemning i heimen\"\n",
        "\n",
        "# generate new text\n",
        "generated = generate_seq(model, tokenizer, seq_length, seed_text, 8)\n",
        "#generated = generate_seq(model, tokenizer, 1, seed_text, 50)\n",
        "print(seed_text+\" \"+generated)"
      ],
      "execution_count": 201,
      "outputs": [
        {
          "output_type": "stream",
          "text": [
            "8\n",
            "fryd deg hver sjel han har frelst hei hå\n",
            "\n",
            "1/1 - 0s\n",
            "1/1 - 0s\n",
            "1/1 - 0s\n",
            "1/1 - 0s\n",
            "1/1 - 0s\n",
            "1/1 - 0s\n",
            "1/1 - 0s\n",
            "1/1 - 0s\n",
            "Julestemning i heimen da asen omsider la sine skritt og fødte\n"
          ],
          "name": "stdout"
        }
      ]
    },
    {
      "cell_type": "code",
      "metadata": {
        "id": "8YHTQ0uDaaWO"
      },
      "source": [
        ""
      ],
      "execution_count": 190,
      "outputs": []
    },
    {
      "cell_type": "code",
      "metadata": {
        "id": "kF3246BCaaWQ"
      },
      "source": [
        ""
      ],
      "execution_count": 141,
      "outputs": []
    }
  ]
}
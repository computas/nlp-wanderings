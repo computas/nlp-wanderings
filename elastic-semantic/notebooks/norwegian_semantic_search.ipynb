{
 "cells": [
  {
   "cell_type": "markdown",
   "metadata": {},
   "source": [
    "# Sentence Embeddings using Siamese BERT-Networks\n",
    "\n",
    "Based on the code from: \n",
    "- https://github.com/UKPLab/sentence-transformers/blob/master/examples/application_semantic_search.py\n",
    "- https://github.com/UKPLab/sentence-transformers/blob/master/examples/training_nli_bert.py\n",
    "- https://github.com/UKPLab/sentence-transformers/blob/master/examples/application_clustering.py\n",
    "- FAISs: https://github.com/bhavsarpratik/transformers/blob/master/5.%20semantic-search-USE.ipynb\n",
    "\n",
    "This is a simple test application for sentence embeddings: semantic search in norwegian\n",
    "\n",
    "We have a corpus with various sentences. Then, for a given query sentence, we want to find the most similar sentence in this corpus.\n",
    "\n",
    "This script outputs for various queries the top 5 most similar sentences in the corpus.\n"
   ]
  },
  {
   "cell_type": "code",
   "execution_count": 1,
   "metadata": {},
   "outputs": [],
   "source": [
    "import numpy as np"
   ]
  },
  {
   "cell_type": "markdown",
   "metadata": {},
   "source": [
    "# FAISS search"
   ]
  },
  {
   "cell_type": "code",
   "execution_count": 2,
   "metadata": {},
   "outputs": [],
   "source": [
    "import faiss\n",
    "\n",
    "class FAISS:\n",
    "    def __init__(self, dimensions:int):\n",
    "        self.dimensions = dimensions\n",
    "        self.index = faiss.IndexFlatL2(dimensions)\n",
    "        self.vectors = {}\n",
    "        self.counter = 0\n",
    "    \n",
    "    def add(self, text:str, v:list):\n",
    "        self.index.add(v)\n",
    "        self.vectors[self.counter] = (text, v)\n",
    "        self.counter += 1\n",
    "        \n",
    "    def search(self, v:list, k:int=10):\n",
    "        distance, item_index = self.index.search(v, k)\n",
    "        for dist, i in zip(distance[0], item_index[0]):\n",
    "            if i==-1:\n",
    "                break\n",
    "            else:\n",
    "                print(f'{self.vectors[i][0]}, %.2f'%dist)"
   ]
  },
  {
   "cell_type": "code",
   "execution_count": 3,
   "metadata": {},
   "outputs": [],
   "source": [
    "from sentence_transformers import SentenceTransformer, models\n",
    "\n",
    "class DistilBERT():\n",
    "    \"\"\"DistilBERT models\n",
    "    device: cpu,cuda\"\"\"\n",
    "    def __init__(self, model_name='distilbert-base-multilingual-cased', use_mean_pooling=True, use_cls_pooling=False, use_max_pooling=False, device='cpu'):\n",
    "        model = models.DistilBERT(model_name)\n",
    "        pooling =  models.Pooling(model.get_word_embedding_dimension(),\n",
    "                               pooling_mode_mean_tokens=use_mean_pooling,\n",
    "                               pooling_mode_cls_token=use_cls_pooling,\n",
    "                               pooling_mode_max_tokens=use_max_pooling)\n",
    "        self.embeddings = SentenceTransformer(modules=[model, pooling], device=device) \n",
    "        \n",
    "    def encode(self, text:list):\n",
    "        result = self.embeddings.encode(text)\n",
    "        return np.asarray(result, dtype=np.float32)"
   ]
  },
  {
   "cell_type": "code",
   "execution_count": 4,
   "metadata": {},
   "outputs": [],
   "source": [
    "from tqdm import tqdm\n",
    "\n",
    "class SemanticSearch():\n",
    "    def __init__(self, encoder, dimension):\n",
    "        self.encoder = encoder\n",
    "        self.index = FAISS(dimension)\n",
    "            \n",
    "    def ingest(self, text:list):\n",
    "        \"\"\"text: a list of strings\"\"\"\n",
    "        for t in tqdm(text):\n",
    "            emb = self.encoder.encode([t])\n",
    "            self.index.add(t, emb)\n",
    "    \n",
    "    def search(self, query, top:int=10):\n",
    "        emb = self.encoder.encode([query])\n",
    "        return self.index.search(emb, top)"
   ]
  },
  {
   "cell_type": "markdown",
   "metadata": {},
   "source": [
    "# Test Vector Search"
   ]
  },
  {
   "cell_type": "code",
   "execution_count": 5,
   "metadata": {},
   "outputs": [],
   "source": [
    "encoder = DistilBERT()"
   ]
  },
  {
   "cell_type": "code",
   "execution_count": 6,
   "metadata": {},
   "outputs": [
    {
     "name": "stdout",
     "output_type": "stream",
     "text": [
      "768\n"
     ]
    }
   ],
   "source": [
    "dimension = encoder.encode(['hello']).size\n",
    "print(dimension)"
   ]
  },
  {
   "cell_type": "code",
   "execution_count": 7,
   "metadata": {},
   "outputs": [
    {
     "name": "stdout",
     "output_type": "stream",
     "text": [
      "word,  distance\n",
      "hello, 39.76\n",
      "bye, 61.25\n"
     ]
    }
   ],
   "source": [
    "index = FAISS(dimension)\n",
    "\n",
    "# index word\n",
    "t1 = 'hello'\n",
    "v1 = encoder.encode([t1])\n",
    "index.add(t1, v1)\n",
    "\n",
    "# index word\n",
    "t1 = 'bye'\n",
    "v1 = encoder.encode([t1])\n",
    "index.add(t1, v1)\n",
    "\n",
    "# search similar word\n",
    "t1 = 'hi'\n",
    "v1 = encoder.encode([t1])\n",
    "print('word,  distance')\n",
    "index.search(v1)"
   ]
  },
  {
   "cell_type": "markdown",
   "metadata": {},
   "source": [
    "# Test with real data "
   ]
  },
  {
   "cell_type": "code",
   "execution_count": 8,
   "metadata": {},
   "outputs": [],
   "source": [
    "corpus = ['Legevakten i Trondheim ble onsdag ettermiddag delvis stengt.',\n",
    "          '58 personer var inntil tirsdag testet for coronaviruset i Norge.',\n",
    "          'På døren utenfor legevakten i Trondheim blir personer som tror de kan være smittet av coronaviruset, bedt om å vente utenfor og bruke ringeklokken .',\n",
    "          'Tyrkias militære aksjoner inne i Syria får kritikk fra den norske forsvarsministeren Frank Bakke-Jensen.',\n",
    "          'Tyrkias forsvarsminister Hulusi Akarg orienterte sine kolleger i NATO om situasjonen i Idlib-regionen på alliansens forsvarsministermøte i Brussel onsdag.',\n",
    "          'NATO-sjef Jens Stoltenberg fordømte også Syria og Russlands aksjoner, men kommenterte ikke Tyrkias militære handlinger.',\n",
    "          'De vordende foreldrene er lettet over å få tilbringe natten under et tak.',\n",
    "          'Kathy (31) er gravid og hjemløs.',\n",
    "          'Nå har hun bodd på gaten i åtte måneder.'\n",
    "          ]"
   ]
  },
  {
   "cell_type": "code",
   "execution_count": 9,
   "metadata": {},
   "outputs": [],
   "source": [
    "encoder = DistilBERT()\n",
    "dimension = encoder.encode(['hello']).size\n",
    "ss = SemanticSearch(encoder,dimension)"
   ]
  },
  {
   "cell_type": "code",
   "execution_count": 10,
   "metadata": {},
   "outputs": [
    {
     "name": "stderr",
     "output_type": "stream",
     "text": [
      "100%|██████████| 9/9 [00:00<00:00, 36.14it/s]\n"
     ]
    }
   ],
   "source": [
    "ss.ingest(corpus)"
   ]
  },
  {
   "cell_type": "code",
   "execution_count": 23,
   "metadata": {},
   "outputs": [
    {
     "name": "stdout",
     "output_type": "stream",
     "text": [
      "Tyrkias militære aksjoner inne i Syria får kritikk fra den norske forsvarsministeren Frank Bakke-Jensen., 12.00\n",
      "NATO-sjef Jens Stoltenberg fordømte også Syria og Russlands aksjoner, men kommenterte ikke Tyrkias militære handlinger., 19.18\n",
      "Tyrkias forsvarsminister Hulusi Akarg orienterte sine kolleger i NATO om situasjonen i Idlib-regionen på alliansens forsvarsministermøte i Brussel onsdag., 21.32\n",
      "På døren utenfor legevakten i Trondheim blir personer som tror de kan være smittet av coronaviruset, bedt om å vente utenfor og bruke ringeklokken ., 34.66\n",
      "Legevakten i Trondheim ble onsdag ettermiddag delvis stengt., 38.61\n",
      "58 personer var inntil tirsdag testet for coronaviruset i Norge., 39.94\n",
      "De vordende foreldrene er lettet over å få tilbringe natten under et tak., 43.24\n",
      "Kathy (31) er gravid og hjemløs., 43.72\n",
      "Nå har hun bodd på gaten i åtte måneder., 50.74\n"
     ]
    }
   ],
   "source": [
    "ss.search('Tyrkia får norsk kritikk for Syria-aksjoner.')"
   ]
  },
  {
   "cell_type": "markdown",
   "metadata": {},
   "source": [
    "# Test with News"
   ]
  },
  {
   "cell_type": "markdown",
   "metadata": {},
   "source": [
    "## https://www.aftenposten.no/verden/i/b5b4Xg/libyas-fn-stoettede-regjering-trekker-seg-fra-fredssamtaler"
   ]
  },
  {
   "cell_type": "code",
   "execution_count": 12,
   "metadata": {},
   "outputs": [
    {
     "name": "stdout",
     "output_type": "stream",
     "text": [
      "['Libyas FN-støttede regjering trekker seg fra fredssamtaler', 'Den FN-støttede regjeringen i Libya trekker seg inntil videre fra fredssamtalene i Genève etter at havnen i Tripoli tirsdag ble utsatt for et angrep', 'I dag var det på nytt brudd på våpenhvilen', 'Militsen angrep havnen i Tripoli, som er livsnerve for mange av Libyas byer, heter det i en kunngjøring fra regjeringen, som ledes av statsminister Fayez al-Serraj', 'Vi kunngjør at vi innstiller vår deltakelse i de militære samtalene som holdes i Genève inntil det blir inntatt en streng holdning mot angriperne og deres brudd, heter det videre', 'Innbyggere i Tripoli fortalte tirsdag om høye eksplosjoner og røyk fra havneområdet, men omfanget av skadene er ikke kjent', 'Oljerike Libya har vært preget av kaos og anarki siden opprørere med luftstøtte fra Norge og andre Nato-land i 2011 styrtet Muammar Gaddafis regime', 'Siden har en rekke militsgrupper kjempet om makten, noe som har bidratt til å gjøre Libya til et senter for menneskehandel og et brohode for flyktninger og migranter som forsøker å ta seg sjøveien til Europa', 'I april i fjor ble situasjonen ytterligere forverret da opprørsgeneralen Khalifa Haftar og hans milits innledet en offensiv mot Tripoli', 'En skjør våpenhvile er formelt på plass, men denne brytes ifølge FN regelmessig.']\n"
     ]
    }
   ],
   "source": [
    "article = 'Libyas FN-støttede regjering trekker seg fra fredssamtaler. Den FN-støttede regjeringen i Libya trekker seg inntil videre fra fredssamtalene i Genève etter at havnen i Tripoli tirsdag ble utsatt for et angrep. I dag var det på nytt brudd på våpenhvilen. Militsen angrep havnen i Tripoli, som er livsnerve for mange av Libyas byer, heter det i en kunngjøring fra regjeringen, som ledes av statsminister Fayez al-Serraj. Vi kunngjør at vi innstiller vår deltakelse i de militære samtalene som holdes i Genève inntil det blir inntatt en streng holdning mot angriperne og deres brudd, heter det videre. Innbyggere i Tripoli fortalte tirsdag om høye eksplosjoner og røyk fra havneområdet, men omfanget av skadene er ikke kjent. Oljerike Libya har vært preget av kaos og anarki siden opprørere med luftstøtte fra Norge og andre Nato-land i 2011 styrtet Muammar Gaddafis regime. Siden har en rekke militsgrupper kjempet om makten, noe som har bidratt til å gjøre Libya til et senter for menneskehandel og et brohode for flyktninger og migranter som forsøker å ta seg sjøveien til Europa. I april i fjor ble situasjonen ytterligere forverret da opprørsgeneralen Khalifa Haftar og hans milits innledet en offensiv mot Tripoli. En skjør våpenhvile er formelt på plass, men denne brytes ifølge FN regelmessig.'\n",
    "lines = article.split('. ')\n",
    "print(lines)"
   ]
  },
  {
   "cell_type": "code",
   "execution_count": 13,
   "metadata": {},
   "outputs": [],
   "source": [
    "encoder_1 = DistilBERT()\n",
    "dimension_1 = encoder_1.encode(['hello']).size\n",
    "ss_1 = SemanticSearch(encoder_1,dimension_1)"
   ]
  },
  {
   "cell_type": "code",
   "execution_count": 14,
   "metadata": {},
   "outputs": [
    {
     "name": "stderr",
     "output_type": "stream",
     "text": [
      "100%|██████████| 10/10 [00:00<00:00, 34.76it/s]\n"
     ]
    }
   ],
   "source": [
    "ss_1.ingest(lines)"
   ]
  },
  {
   "cell_type": "code",
   "execution_count": 24,
   "metadata": {},
   "outputs": [
    {
     "name": "stdout",
     "output_type": "stream",
     "text": [
      "I dag var det på nytt brudd på våpenhvilen, 20.77\n",
      "En skjør våpenhvile er formelt på plass, men denne brytes ifølge FN regelmessig., 27.22\n",
      "I april i fjor ble situasjonen ytterligere forverret da opprørsgeneralen Khalifa Haftar og hans milits innledet en offensiv mot Tripoli, 36.01\n",
      "Vi kunngjør at vi innstiller vår deltakelse i de militære samtalene som holdes i Genève inntil det blir inntatt en streng holdning mot angriperne og deres brudd, heter det videre, 37.60\n",
      "Den FN-støttede regjeringen i Libya trekker seg inntil videre fra fredssamtalene i Genève etter at havnen i Tripoli tirsdag ble utsatt for et angrep, 40.41\n"
     ]
    }
   ],
   "source": [
    "ss_1.search('brudd i våpenhvile', top=5)"
   ]
  },
  {
   "cell_type": "code",
   "execution_count": 25,
   "metadata": {},
   "outputs": [
    {
     "name": "stdout",
     "output_type": "stream",
     "text": [
      "En skjør våpenhvile er formelt på plass, men denne brytes ifølge FN regelmessig., 18.19\n",
      "I dag var det på nytt brudd på våpenhvilen, 18.59\n",
      "Vi kunngjør at vi innstiller vår deltakelse i de militære samtalene som holdes i Genève inntil det blir inntatt en streng holdning mot angriperne og deres brudd, heter det videre, 25.17\n",
      "I april i fjor ble situasjonen ytterligere forverret da opprørsgeneralen Khalifa Haftar og hans milits innledet en offensiv mot Tripoli, 27.59\n",
      "Innbyggere i Tripoli fortalte tirsdag om høye eksplosjoner og røyk fra havneområdet, men omfanget av skadene er ikke kjent, 28.51\n"
     ]
    }
   ],
   "source": [
    "ss_1.search('absolutt ikke brudd i våpenhvile', top=5)"
   ]
  },
  {
   "cell_type": "code",
   "execution_count": 17,
   "metadata": {},
   "outputs": [
    {
     "name": "stdout",
     "output_type": "stream",
     "text": [
      "Oljerike Libya har vært preget av kaos og anarki siden opprørere med luftstøtte fra Norge og andre Nato-land i 2011 styrtet Muammar Gaddafis regime, 32.77\n",
      "I april i fjor ble situasjonen ytterligere forverret da opprørsgeneralen Khalifa Haftar og hans milits innledet en offensiv mot Tripoli, 34.25\n",
      "Libyas FN-støttede regjering trekker seg fra fredssamtaler, 36.49\n",
      "Innbyggere i Tripoli fortalte tirsdag om høye eksplosjoner og røyk fra havneområdet, men omfanget av skadene er ikke kjent, 37.73\n",
      "Militsen angrep havnen i Tripoli, som er livsnerve for mange av Libyas byer, heter det i en kunngjøring fra regjeringen, som ledes av statsminister Fayez al-Serraj, 38.17\n"
     ]
    }
   ],
   "source": [
    "ss_1.search('Lybia i kaos og anarki', top=5)"
   ]
  },
  {
   "cell_type": "markdown",
   "metadata": {},
   "source": [
    "## Wikipedia https://no.wikipedia.org/wiki/Utlendingsdirektoratet"
   ]
  },
  {
   "cell_type": "code",
   "execution_count": 18,
   "metadata": {},
   "outputs": [
    {
     "name": "stdout",
     "output_type": "stream",
     "text": [
      "['Utlendingsdirektoratet (UDI) er et norsk statlig direktorat opprettet i 1988 og underlagt Justis- og beredskapsdepartementet da Statens utlendingskontor og Statens flyktningssekretariat ble slått sammen', 'Direktør er Frode Forfang', 'Direktoratet har ansvar for behandling av søknader om visum, oppholdstillatelse, statsborgerskap, reisedokumenter for utlendinger og beskyttelse (asyl) og for driften av asylmottak', 'UDI behandler også søknader om såkalt assistert retur[5], en ordning som gir økonomisk støtte til asylsøkere med avslag på søknaden sin som må returnere til hjemlandet og tilbakevending, en ordning som gir økonomisk støtte til flyktninger som ønsker å returnere til hjemlandet sitt', 'Direktoratet fatter dessuten også vedtak om utvisning', 'Fram til 1', 'januar 2006 hadde UDI også ansvar for integreringen av flyktninger i norske kommuner, men denne delen av virksomheten ble skilt ut som et nytt direktorat, Integrerings- og mangfoldsdirektoratet', 'UDI er underlagt Justis- og beredskapsdepartementet, som har ansvaret for flyktning- og innvandringspolitikken', 'Ansvaret for integrering, statsborgerloven og Integrerings- og mangfoldsdirektoratet (IMDi) ligger hos Kunnskapsdepartementet', 'Departementene har mulighet til å bestemme hvordan UDI skal tolke regelverket', 'Arbeids- og sosialdepartementet har ansvar for arbeidsinnvandring', 'Utlendingsloven, som de fleste av UDIs vedtak fattes etter, er vedtatt av Stortinget', 'Søkere som får avslag hos UDI, kan anke saken sin videre til Utlendingsnemnda (UNE) som er et frittstående, domstollignende forvaltningsorgan', 'UDI har ikke egne kontorer som tar imot søknader i Norge eller i utlandet', 'Politidistriktene tar imot og forbereder søknader om oppholdstillatelse, reisedokumenter, permanent opphold og statsborgerskap', 'I Oslo, Kirkenes, Stavanger, Bergen og Trondheim er det egne servicesentre for utenlandske arbeidstakere som tar imot søknader', 'I enkelte sakstyper kan politidistriktene også innvilge tillatelser når det ikke er tvil om at vilkårene er oppfylt', 'De har også ansvaret for registreringsordningen for EØS-borgere', 'Utenriksstasjonene (ambassader og konsulater) tar imot flere typer søknader og behandler de aller fleste søknadene om besøksvisum (maksimum 90 dager)', 'Utenriksstasjonene hjelper også UDI med å hente inn og kontrollere opplysninger og dokumenter i oppholds- og asylsaker', 'Utenriksstasjonene ligger under Utenriksdepartementet', 'I saksbehandlingen benytter UDI blant annet landinformasjon fra Landinfo, som publiserer rapporter og temanotater om en rekke land', 'UDI er organisert i tre fagavdelinger, to støtteavdelinger samt HR-enheten, Administrative fellestjenester, Kommunikasjonstaben, Internrevisjonen og Direktørens stab', 'De tre fagavdelingene er Asylavdelingen (ASA), Oppholdsavdelingen (OPA) og Region- og mottaksavdelingen (RMA)', 'De to støtteavdelingene er Avdeling for utvikling og analyse (AUA) og Avdeling for elektronisk forvaltning (AEF)', 'Under RMA ligger direktoratets fem regionkontorer, som er lagt til Narvik, Trondheim, Gjøvik, Bergen og Kristiansand', 'Direktoratet har 1 037 ansatte (2013) og hovedkontor i Hausmanns gate nordøst i Oslo sentrum', 'Hovedkontoret flytter til Helsfyr på nyåret 2021', 'Fra 1917 til 1987 var det kjent som Sentralpasskontoret og Statens utlendingskontor', 'Før 1980 kom det bare 50 flyktninger til Norge i året', '1983 økte antallet til 150', 'Året etter kom det 300, deretter økte det til 900 i 1985, 2000 i 1986 og 8700 i 1987', 'Derfor ble UDI ble opprettet 2', 'januar 1988 under det daværende Kommunal- og arbeidsdepartementet for å ta hånd om innvandrings-, integrerings- og flyktningarbeid', 'Direktoratet fikk overført oppgavene til Statens utlendingskontor og Statens flyktningsekretariat samt en del av oppgavene fra innvandringsseksjonen i departementet', '1', 'juli 2000 overtok direktoratet oppgaven med å intervjue asylsøkere, en oppgave som tidligere var tillagt politiet', 'I januar 2006 ble direktoratets integreringsarbeid overført til et eget direktorat, Integrerings- og mangfoldsdirektoratet (IMDi)', 'UDIs første direktør var Arild Kjerschow, som satt i stillingen fra 1987–1996', 'Da overtok Petter J', 'Drefvelin', 'Direktoratet ble fra høsten 2001 og frem til årsskiftet 2006-2007 ledet av Trygve G', 'Nordby', 'Manuela Ramin-Osmundsen, assisterende direktør fra 2002, ble tilsatt som direktør i mars 2006', 'Hun ledet direktoratet frem til 22', 'mai 2006, da Ida Børresen overtok som fungerende direktør', 'Børresen ble formelt tilsatt 10', 'november 2006', 'Børresen avgikk som direktør 30', 'mars 2012', 'Assisterende direktør Frode Forfang ble 22', 'juni 2012 utnevnt som ny direktør i UDI[1] og fikk nytt seksårsåremål i 2018', '']\n"
     ]
    }
   ],
   "source": [
    "udi_article = 'Utlendingsdirektoratet (UDI) er et norsk statlig direktorat opprettet i 1988 og underlagt Justis- og beredskapsdepartementet da Statens utlendingskontor og Statens flyktningssekretariat ble slått sammen. Direktør er Frode Forfang. Direktoratet har ansvar for behandling av søknader om visum, oppholdstillatelse, statsborgerskap, reisedokumenter for utlendinger og beskyttelse (asyl) og for driften av asylmottak. UDI behandler også søknader om såkalt assistert retur[5], en ordning som gir økonomisk støtte til asylsøkere med avslag på søknaden sin som må returnere til hjemlandet og tilbakevending, en ordning som gir økonomisk støtte til flyktninger som ønsker å returnere til hjemlandet sitt. Direktoratet fatter dessuten også vedtak om utvisning. Fram til 1. januar 2006 hadde UDI også ansvar for integreringen av flyktninger i norske kommuner, men denne delen av virksomheten ble skilt ut som et nytt direktorat, Integrerings- og mangfoldsdirektoratet. UDI er underlagt Justis- og beredskapsdepartementet, som har ansvaret for flyktning- og innvandringspolitikken. Ansvaret for integrering, statsborgerloven og Integrerings- og mangfoldsdirektoratet (IMDi) ligger hos Kunnskapsdepartementet. Departementene har mulighet til å bestemme hvordan UDI skal tolke regelverket. Arbeids- og sosialdepartementet har ansvar for arbeidsinnvandring. Utlendingsloven, som de fleste av UDIs vedtak fattes etter, er vedtatt av Stortinget. Søkere som får avslag hos UDI, kan anke saken sin videre til Utlendingsnemnda (UNE) som er et frittstående, domstollignende forvaltningsorgan. UDI har ikke egne kontorer som tar imot søknader i Norge eller i utlandet. Politidistriktene tar imot og forbereder søknader om oppholdstillatelse, reisedokumenter, permanent opphold og statsborgerskap. I Oslo, Kirkenes, Stavanger, Bergen og Trondheim er det egne servicesentre for utenlandske arbeidstakere som tar imot søknader. I enkelte sakstyper kan politidistriktene også innvilge tillatelser når det ikke er tvil om at vilkårene er oppfylt. De har også ansvaret for registreringsordningen for EØS-borgere. Utenriksstasjonene (ambassader og konsulater) tar imot flere typer søknader og behandler de aller fleste søknadene om besøksvisum (maksimum 90 dager). Utenriksstasjonene hjelper også UDI med å hente inn og kontrollere opplysninger og dokumenter i oppholds- og asylsaker. Utenriksstasjonene ligger under Utenriksdepartementet. I saksbehandlingen benytter UDI blant annet landinformasjon fra Landinfo, som publiserer rapporter og temanotater om en rekke land. UDI er organisert i tre fagavdelinger, to støtteavdelinger samt HR-enheten, Administrative fellestjenester, Kommunikasjonstaben, Internrevisjonen og Direktørens stab. De tre fagavdelingene er Asylavdelingen (ASA), Oppholdsavdelingen (OPA) og Region- og mottaksavdelingen (RMA). De to støtteavdelingene er Avdeling for utvikling og analyse (AUA) og Avdeling for elektronisk forvaltning (AEF). Under RMA ligger direktoratets fem regionkontorer, som er lagt til Narvik, Trondheim, Gjøvik, Bergen og Kristiansand. Direktoratet har 1 037 ansatte (2013) og hovedkontor i Hausmanns gate nordøst i Oslo sentrum. Hovedkontoret flytter til Helsfyr på nyåret 2021. Fra 1917 til 1987 var det kjent som Sentralpasskontoret og Statens utlendingskontor. Før 1980 kom det bare 50 flyktninger til Norge i året. 1983 økte antallet til 150. Året etter kom det 300, deretter økte det til 900 i 1985, 2000 i 1986 og 8700 i 1987. Derfor ble UDI ble opprettet 2. januar 1988 under det daværende Kommunal- og arbeidsdepartementet for å ta hånd om innvandrings-, integrerings- og flyktningarbeid. Direktoratet fikk overført oppgavene til Statens utlendingskontor og Statens flyktningsekretariat samt en del av oppgavene fra innvandringsseksjonen i departementet. 1. juli 2000 overtok direktoratet oppgaven med å intervjue asylsøkere, en oppgave som tidligere var tillagt politiet. I januar 2006 ble direktoratets integreringsarbeid overført til et eget direktorat, Integrerings- og mangfoldsdirektoratet (IMDi). UDIs første direktør var Arild Kjerschow, som satt i stillingen fra 1987–1996. Da overtok Petter J. Drefvelin. Direktoratet ble fra høsten 2001 og frem til årsskiftet 2006-2007 ledet av Trygve G. Nordby. Manuela Ramin-Osmundsen, assisterende direktør fra 2002, ble tilsatt som direktør i mars 2006. Hun ledet direktoratet frem til 22. mai 2006, da Ida Børresen overtok som fungerende direktør. Børresen ble formelt tilsatt 10. november 2006. Børresen avgikk som direktør 30. mars 2012. Assisterende direktør Frode Forfang ble 22. juni 2012 utnevnt som ny direktør i UDI[1] og fikk nytt seksårsåremål i 2018. '\n",
    "udi_lines = udi_article.split('. ')\n",
    "print(udi_lines)"
   ]
  },
  {
   "cell_type": "code",
   "execution_count": 19,
   "metadata": {},
   "outputs": [],
   "source": [
    "ss_udi = SemanticSearch(encoder_1,dimension_1)"
   ]
  },
  {
   "cell_type": "code",
   "execution_count": 20,
   "metadata": {},
   "outputs": [
    {
     "name": "stderr",
     "output_type": "stream",
     "text": [
      "100%|██████████| 53/53 [00:01<00:00, 48.43it/s]\n"
     ]
    }
   ],
   "source": [
    "ss_udi.ingest(udi_lines)"
   ]
  },
  {
   "cell_type": "code",
   "execution_count": 26,
   "metadata": {},
   "outputs": [
    {
     "name": "stdout",
     "output_type": "stream",
     "text": [
      "UDIs første direktør var Arild Kjerschow, som satt i stillingen fra 1987–1996, 36.65\n",
      "Direktør er Frode Forfang, 37.85\n",
      "I enkelte sakstyper kan politidistriktene også innvilge tillatelser når det ikke er tvil om at vilkårene er oppfylt, 40.43\n",
      "Assisterende direktør Frode Forfang ble 22, 43.03\n",
      "Børresen avgikk som direktør 30, 45.39\n"
     ]
    }
   ],
   "source": [
    "ss_udi.search('hvem var UDIs første direktør?', top=5)"
   ]
  },
  {
   "cell_type": "code",
   "execution_count": 27,
   "metadata": {},
   "outputs": [
    {
     "name": "stdout",
     "output_type": "stream",
     "text": [
      "Direktør er Frode Forfang, 38.21\n",
      "I enkelte sakstyper kan politidistriktene også innvilge tillatelser når det ikke er tvil om at vilkårene er oppfylt, 39.50\n",
      "UDIs første direktør var Arild Kjerschow, som satt i stillingen fra 1987–1996, 42.24\n",
      "Departementene har mulighet til å bestemme hvordan UDI skal tolke regelverket, 46.10\n",
      "Assisterende direktør Frode Forfang ble 22, 47.41\n"
     ]
    }
   ],
   "source": [
    "ss_udi.search('hvem er UDIs direktør?', top=5)"
   ]
  },
  {
   "cell_type": "code",
   "execution_count": null,
   "metadata": {},
   "outputs": [],
   "source": []
  }
 ],
 "metadata": {
  "kernelspec": {
   "display_name": "Python 3",
   "language": "python",
   "name": "python3"
  },
  "language_info": {
   "codemirror_mode": {
    "name": "ipython",
    "version": 3
   },
   "file_extension": ".py",
   "mimetype": "text/x-python",
   "name": "python",
   "nbconvert_exporter": "python",
   "pygments_lexer": "ipython3",
   "version": "3.7.6"
  }
 },
 "nbformat": 4,
 "nbformat_minor": 4
}

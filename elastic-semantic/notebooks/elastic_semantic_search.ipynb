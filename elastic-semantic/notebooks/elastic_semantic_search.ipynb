{
 "cells": [
  {
   "cell_type": "markdown",
   "metadata": {},
   "source": [
    "# Sentence Embeddings using Siamese BERT-Networks\n",
    "\n",
    "Based on the code from: \n",
    "- https://github.com/UKPLab/sentence-transformers/blob/master/examples/application_semantic_search.py\n",
    "- https://github.com/UKPLab/sentence-transformers/blob/master/examples/training_nli_bert.py\n",
    "- https://github.com/UKPLab/sentence-transformers/blob/master/examples/application_clustering.py\n",
    "- FAISs: https://github.com/bhavsarpratik/transformers/blob/master/5.%20semantic-search-USE.ipynb\n",
    "\n",
    "This is a simple test application for sentence embeddings: semantic search in norwegian\n",
    "\n",
    "We have a corpus with various sentences. Then, for a given query sentence, we want to find the most similar sentence in this corpus.\n",
    "\n",
    "This script outputs for various queries the top 5 most similar sentences in the corpus.\n"
   ]
  },
  {
   "cell_type": "code",
   "execution_count": 1,
   "metadata": {},
   "outputs": [],
   "source": [
    "import numpy as np"
   ]
  },
  {
   "cell_type": "markdown",
   "metadata": {},
   "source": [
    "# FAISS search"
   ]
  },
  {
   "cell_type": "code",
   "execution_count": 2,
   "metadata": {},
   "outputs": [],
   "source": [
    "import faiss\n",
    "\n",
    "class FAISS:\n",
    "    def __init__(self, dimensions:int):\n",
    "        self.dimensions = dimensions\n",
    "        self.index = faiss.IndexFlatL2(dimensions)\n",
    "        self.vectors = {}\n",
    "        self.counter = 0\n",
    "    \n",
    "    def add(self, text:str, v:list):\n",
    "        self.index.add(v)\n",
    "        self.vectors[self.counter] = (text, v)\n",
    "        self.counter += 1\n",
    "        \n",
    "    def search(self, v:list, k:int=10):\n",
    "        distance, item_index = self.index.search(v, k)\n",
    "        for dist, i in zip(distance[0], item_index[0]):\n",
    "            if i==-1:\n",
    "                break\n",
    "            else:\n",
    "                print(f'{self.vectors[i][0]}, %.2f'%dist)"
   ]
  },
  {
   "cell_type": "code",
   "execution_count": 12,
   "metadata": {},
   "outputs": [],
   "source": [
    "from sentence_transformers import SentenceTransformer, models\n",
    "\n",
    "class SENTENCE_TRANSFORMERS():\n",
    "    \"\"\"Sentence Transformers models\n",
    "    For semantic search these are recommended:\n",
    "     - https://github.com/UKPLab/sentence-transformers/blob/master/docs/pretrained-models/sts-models.md\n",
    "     \n",
    "     Input:\n",
    "        model_name: name of the model. See the list.\n",
    "        device: cpu,cuda\n",
    "    \"\"\"\n",
    "    def __init__(self, model_name='distilbert-base-nli-stsb-mean-tokens', device='cpu'):\n",
    "        self.embeddings = SentenceTransformer(model_name, device=device)\n",
    "        \n",
    "    def encode(self, text:list):\n",
    "        result = self.embeddings.encode(text)\n",
    "        return np.asarray(result, dtype=np.float32)\n",
    "\n",
    "\n",
    "class DistilBERT():\n",
    "    \"\"\"DistilBERT models. These come from HuggingFace transformers. \n",
    "    The assumtion is that these produce a bit worse senctence embeddings for semantic search.\n",
    "    \n",
    "     Input:\n",
    "        model_name: name of the model. See the list.\n",
    "        device: cpu,cuda\n",
    "    \"\"\"\n",
    "    def __init__(self, model_name='distilbert-base-multilingual-cased', use_mean_pooling=True, use_cls_pooling=False, use_max_pooling=False, device='cpu'):\n",
    "        model = models.DistilBERT(model_name)\n",
    "        pooling =  models.Pooling(model.get_word_embedding_dimension(),\n",
    "                               pooling_mode_mean_tokens=use_mean_pooling,\n",
    "                               pooling_mode_cls_token=use_cls_pooling,\n",
    "                               pooling_mode_max_tokens=use_max_pooling)\n",
    "        self.embeddings = SentenceTransformer(modules=[model, pooling], device=device) \n",
    "        \n",
    "    def encode(self, text:list):\n",
    "        result = self.embeddings.encode(text)\n",
    "        return np.asarray(result, dtype=np.float32)"
   ]
  },
  {
   "cell_type": "code",
   "execution_count": 13,
   "metadata": {},
   "outputs": [],
   "source": [
    "from tqdm import tqdm\n",
    "\n",
    "class SemanticSearch():\n",
    "    def __init__(self, encoder, dimension):\n",
    "        self.encoder = encoder\n",
    "        self.index = FAISS(dimension)\n",
    "            \n",
    "    def ingest(self, text:list):\n",
    "        \"\"\"text: a list of strings\"\"\"\n",
    "        for t in tqdm(text):\n",
    "            emb = self.encoder.encode([t])\n",
    "            self.index.add(t, emb)\n",
    "    \n",
    "    def search(self, query, top:int=10):\n",
    "        emb = self.encoder.encode([query])\n",
    "        return self.index.search(emb, top)"
   ]
  },
  {
   "cell_type": "markdown",
   "metadata": {},
   "source": [
    "# Elasticsearch setup"
   ]
  },
  {
   "cell_type": "code",
   "execution_count": 27,
   "metadata": {},
   "outputs": [
    {
     "name": "stdout",
     "output_type": "stream",
     "text": [
      "created\n",
      "{'author': 'kimchy', 'text': 'Elasticsearch: cool. bonsai cool.', 'timestamp': '2020-02-21T13:44:28.654084'}\n",
      "Got 1 Hits:\n",
      "2020-02-21T13:44:28.654084 kimchy: Elasticsearch: cool. bonsai cool.\n"
     ]
    }
   ],
   "source": [
    "from elasticsearch import Elasticsearch\n",
    "from datetime import datetime\n",
    "es = Elasticsearch()\n",
    "\n",
    "doc = {\n",
    "    'author': 'kimchy',\n",
    "    'text': 'Elasticsearch: cool. bonsai cool.',\n",
    "    'timestamp': datetime.now(),\n",
    "}\n",
    "res = es.index(index=\"test-index\", id=1, body=doc)\n",
    "print(res['result'])\n",
    "\n",
    "res = es.get(index=\"test-index\", id=1)\n",
    "print(res['_source'])\n",
    "\n",
    "es.indices.refresh(index=\"test-index\")\n",
    "\n",
    "res = es.search(index=\"test-index\", body={\"query\": {\"match_all\": {}}})\n",
    "print(\"Got %d Hits:\" % res['hits']['total']['value'])\n",
    "for hit in res['hits']['hits']:\n",
    "    print(\"%(timestamp)s %(author)s: %(text)s\" % hit[\"_source\"])"
   ]
  },
  {
   "cell_type": "markdown",
   "metadata": {},
   "source": [
    "# Test Vector Search"
   ]
  },
  {
   "cell_type": "code",
   "execution_count": 14,
   "metadata": {},
   "outputs": [
    {
     "name": "stderr",
     "output_type": "stream",
     "text": [
      "100%|██████████| 245M/245M [00:30<00:00, 7.92MB/s] \n"
     ]
    }
   ],
   "source": [
    "encoder = SENTENCE_TRANSFORMERS()"
   ]
  },
  {
   "cell_type": "code",
   "execution_count": 17,
   "metadata": {},
   "outputs": [
    {
     "name": "stdout",
     "output_type": "stream",
     "text": [
      "768\n"
     ]
    }
   ],
   "source": [
    "dimension = encoder.encode(['hello']).size\n",
    "print(dimension)"
   ]
  },
  {
   "cell_type": "code",
   "execution_count": 18,
   "metadata": {},
   "outputs": [
    {
     "name": "stdout",
     "output_type": "stream",
     "text": [
      "word,  distance\n",
      "hello, 127.27\n",
      "bye, 348.01\n"
     ]
    }
   ],
   "source": [
    "index = FAISS(dimension)\n",
    "\n",
    "# index word\n",
    "t1 = 'hello'\n",
    "v1 = encoder.encode([t1])\n",
    "index.add(t1, v1)\n",
    "\n",
    "# index word\n",
    "t1 = 'bye'\n",
    "v1 = encoder.encode([t1])\n",
    "index.add(t1, v1)\n",
    "\n",
    "# search similar word\n",
    "t1 = 'hi'\n",
    "v1 = encoder.encode([t1])\n",
    "print('word,  distance')\n",
    "index.search(v1)"
   ]
  },
  {
   "cell_type": "markdown",
   "metadata": {},
   "source": [
    "# Test with real data "
   ]
  },
  {
   "cell_type": "markdown",
   "metadata": {},
   "source": [
    "## Test with News"
   ]
  },
  {
   "cell_type": "markdown",
   "metadata": {},
   "source": [
    "### https://en.wikipedia.org/wiki/The_Goldfinch_(painting)"
   ]
  },
  {
   "cell_type": "code",
   "execution_count": 16,
   "metadata": {},
   "outputs": [
    {
     "name": "stdout",
     "output_type": "stream",
     "text": [
      "['The Goldfinch (Dutch: Het puttertje) is a painting by the Dutch Golden Age artist Carel Fabritius of a life-size chained goldfinch', 'Signed and dated 1654, it is now in the collection of the Mauritshuis in The Hague, Netherlands', \"The work is a trompe-l'œil oil on panel measuring 33.5 by 22.8 centimetres (13.2 in × 9.0 in) that was once part of a larger structure, perhaps a window jamb or a protective cover\", \"It is possible that the painting was in its creator's workshop in Delft at the time of the gunpowder explosion that killed him and destroyed much of the city\", 'A common and colourful bird with a pleasant song, the goldfinch was a popular pet, and could be taught simple tricks including lifting a thimble-sized bucket of water', 'It was reputedly a bringer of good health, and was used in Italian Renaissance painting as a symbol of Christian redemption and the Passion of Jesus', 'The Goldfinch is unusual for the Dutch Golden Age painting period in the simplicity of its composition and use of illusionary techniques', 'Following the death of its creator, it was lost for more than two centuries before its rediscovery in Brussels', 'It plays a central role in the Pulitzer Prize-winning novel The Goldfinch by Donna Tartt and its film adaptation.']\n"
     ]
    }
   ],
   "source": [
    "article = \"The Goldfinch (Dutch: Het puttertje) is a painting by the Dutch Golden Age artist Carel Fabritius of a life-size chained goldfinch. Signed and dated 1654, it is now in the collection of the Mauritshuis in The Hague, Netherlands. The work is a trompe-l'œil oil on panel measuring 33.5 by 22.8 centimetres (13.2 in × 9.0 in) that was once part of a larger structure, perhaps a window jamb or a protective cover. It is possible that the painting was in its creator's workshop in Delft at the time of the gunpowder explosion that killed him and destroyed much of the city. A common and colourful bird with a pleasant song, the goldfinch was a popular pet, and could be taught simple tricks including lifting a thimble-sized bucket of water. It was reputedly a bringer of good health, and was used in Italian Renaissance painting as a symbol of Christian redemption and the Passion of Jesus. The Goldfinch is unusual for the Dutch Golden Age painting period in the simplicity of its composition and use of illusionary techniques. Following the death of its creator, it was lost for more than two centuries before its rediscovery in Brussels. It plays a central role in the Pulitzer Prize-winning novel The Goldfinch by Donna Tartt and its film adaptation.\"\n",
    "lines = article.split('. ')\n",
    "print(lines)"
   ]
  },
  {
   "cell_type": "code",
   "execution_count": 19,
   "metadata": {},
   "outputs": [],
   "source": [
    "encoder_1 = SENTENCE_TRANSFORMERS()\n",
    "dimension_1 = encoder_1.encode(['hello']).size\n",
    "ss_1 = SemanticSearch(encoder_1,dimension_1)"
   ]
  },
  {
   "cell_type": "code",
   "execution_count": 20,
   "metadata": {},
   "outputs": [
    {
     "name": "stderr",
     "output_type": "stream",
     "text": [
      "100%|██████████| 9/9 [00:00<00:00, 25.27it/s]\n"
     ]
    }
   ],
   "source": [
    "ss_1.ingest(lines)"
   ]
  },
  {
   "cell_type": "code",
   "execution_count": 21,
   "metadata": {},
   "outputs": [
    {
     "name": "stdout",
     "output_type": "stream",
     "text": [
      "The Goldfinch (Dutch: Het puttertje) is a painting by the Dutch Golden Age artist Carel Fabritius of a life-size chained goldfinch, 168.03\n",
      "The Goldfinch is unusual for the Dutch Golden Age painting period in the simplicity of its composition and use of illusionary techniques, 244.26\n",
      "It plays a central role in the Pulitzer Prize-winning novel The Goldfinch by Donna Tartt and its film adaptation., 263.63\n",
      "A common and colourful bird with a pleasant song, the goldfinch was a popular pet, and could be taught simple tricks including lifting a thimble-sized bucket of water, 351.30\n",
      "The work is a trompe-l'œil oil on panel measuring 33.5 by 22.8 centimetres (13.2 in × 9.0 in) that was once part of a larger structure, perhaps a window jamb or a protective cover, 369.19\n"
     ]
    }
   ],
   "source": [
    "ss_1.search('What is the Goldfinch', top=5)"
   ]
  },
  {
   "cell_type": "code",
   "execution_count": 28,
   "metadata": {},
   "outputs": [],
   "source": [
    "encoder_2 = DistilBERT()\n",
    "dimension_2 = encoder_2.encode(['hello']).size\n",
    "ss_2 = SemanticSearch(encoder_2,dimension_2)"
   ]
  },
  {
   "cell_type": "code",
   "execution_count": 29,
   "metadata": {},
   "outputs": [
    {
     "name": "stderr",
     "output_type": "stream",
     "text": [
      "100%|██████████| 9/9 [00:00<00:00, 12.78it/s]\n"
     ]
    }
   ],
   "source": [
    "ss_2.ingest(lines)"
   ]
  },
  {
   "cell_type": "code",
   "execution_count": 30,
   "metadata": {},
   "outputs": [
    {
     "name": "stdout",
     "output_type": "stream",
     "text": [
      "The Goldfinch (Dutch: Het puttertje) is a painting by the Dutch Golden Age artist Carel Fabritius of a life-size chained goldfinch, 39.16\n",
      "The Goldfinch is unusual for the Dutch Golden Age painting period in the simplicity of its composition and use of illusionary techniques, 42.99\n",
      "A common and colourful bird with a pleasant song, the goldfinch was a popular pet, and could be taught simple tricks including lifting a thimble-sized bucket of water, 43.97\n",
      "It is possible that the painting was in its creator's workshop in Delft at the time of the gunpowder explosion that killed him and destroyed much of the city, 52.11\n",
      "It plays a central role in the Pulitzer Prize-winning novel The Goldfinch by Donna Tartt and its film adaptation., 52.82\n"
     ]
    }
   ],
   "source": [
    "ss_2.search('What is the Goldfinch', top=5)"
   ]
  },
  {
   "cell_type": "code",
   "execution_count": null,
   "metadata": {},
   "outputs": [],
   "source": []
  }
 ],
 "metadata": {
  "kernelspec": {
   "display_name": "Python 3",
   "language": "python",
   "name": "python3"
  },
  "language_info": {
   "codemirror_mode": {
    "name": "ipython",
    "version": 3
   },
   "file_extension": ".py",
   "mimetype": "text/x-python",
   "name": "python",
   "nbconvert_exporter": "python",
   "pygments_lexer": "ipython3",
   "version": "3.7.6"
  }
 },
 "nbformat": 4,
 "nbformat_minor": 4
}

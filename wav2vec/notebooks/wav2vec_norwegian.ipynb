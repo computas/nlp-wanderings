{
 "cells": [
  {
   "cell_type": "markdown",
   "metadata": {},
   "source": [
    "# Test of wav2vec for norwegian\n",
    "\n",
    "**Author:** [Computas AS](https://github.com/computas) ([kontakt@computas.com](mailto:kontakt@computas.com))\n",
    "\n",
    "**Achievement:** *[Short, preferably single-line, statement of what has been accomplished. For example, \"Assuming ... and using ... we show that ...\".]*\n",
    "\n",
    "## Introduction\n",
    "\n",
    "This is a simple quality test of Facebook's wav2vec ASR system.\n",
    "\n",
    "Based on the code from: \n",
    "- https://github.com/pytorch/fairseq/tree/master/examples/wav2vec"
   ]
  },
  {
   "cell_type": "markdown",
   "metadata": {},
   "source": [
    "# Reproducibility and code formatting"
   ]
  },
  {
   "cell_type": "code",
   "execution_count": 1,
   "metadata": {
    "tags": []
   },
   "outputs": [],
   "source": [
    "# To watermark the environment\n",
    "%load_ext watermark\n",
    "\n",
    "# For automatic code formatting in jupyter lab.\n",
    "%load_ext lab_black\n",
    "\n",
    "# For automatic code formatting in jupyter notebook\n",
    "%load_ext nb_black"
   ]
  },
  {
   "cell_type": "markdown",
   "metadata": {},
   "source": [
    "# ASR"
   ]
  },
  {
   "cell_type": "code",
   "execution_count": 2,
   "metadata": {
    "tags": []
   },
   "outputs": [
    {
     "output_type": "stream",
     "name": "stdout",
     "text": "--2020-07-09 12:43:29--  https://dl.fbaipublicfiles.com/fairseq/wav2vec/wav2vec_large.pt\nResolving dl.fbaipublicfiles.com (dl.fbaipublicfiles.com)...104.22.75.142, 172.67.9.4, 104.22.74.142, ...\nConnecting to dl.fbaipublicfiles.com (dl.fbaipublicfiles.com)|104.22.75.142|:443... connected.\nHTTP request sent, awaiting response...200 OK\nLength: 325396342 (310M) [application/octet-stream]\nSaving to: ‘wav2vec_large.pt.1’\n\nwav2vec_large.pt.1   17%[==>                 ]  54,39M  8,77MB/s    eta 36s^C\n"
    }
   ],
   "source": [
    "# Download wav2vec large\n",
    "!wget https://dl.fbaipublicfiles.com/fairseq/wav2vec/wav2vec_large.pt"
   ]
  },
  {
   "cell_type": "code",
   "execution_count": 3,
   "metadata": {},
   "outputs": [],
   "source": [
    "import torch\n",
    "from fairseq.models.wav2vec import Wav2VecModel"
   ]
  },
  {
   "cell_type": "code",
   "execution_count": 4,
   "metadata": {
    "tags": []
   },
   "outputs": [
    {
     "output_type": "stream",
     "name": "stdout",
     "text": "Wav2VecModel(\n  (feature_extractor): ConvFeatureExtractionModel(\n    (conv_layers): ModuleList(\n      (0): Sequential(\n        (0): Conv1d(1, 512, kernel_size=(10,), stride=(5,), bias=False)\n        (1): Dropout(p=0.0, inplace=False)\n        (2): Fp32GroupNorm(1, 512, eps=1e-05, affine=True)\n        (3): ReLU()\n      )\n      (1): Sequential(\n        (0): Conv1d(512, 512, kernel_size=(8,), stride=(4,), bias=False)\n        (1): Dropout(p=0.0, inplace=False)\n        (2): Fp32GroupNorm(1, 512, eps=1e-05, affine=True)\n        (3): ReLU()\n      )\n      (2): Sequential(\n        (0): Conv1d(512, 512, kernel_size=(4,), stride=(2,), bias=False)\n        (1): Dropout(p=0.0, inplace=False)\n        (2): Fp32GroupNorm(1, 512, eps=1e-05, affine=True)\n        (3): ReLU()\n      )\n      (3): Sequential(\n        (0): Conv1d(512, 512, kernel_size=(4,), stride=(2,), bias=False)\n        (1): Dropout(p=0.0, inplace=False)\n        (2): Fp32GroupNorm(1, 512, eps=1e-05, affine=True)\n        (3): ReLU()\n      )\n      (4): Sequential(\n        (0): Conv1d(512, 512, kernel_size=(4,), stride=(2,), bias=False)\n        (1): Dropout(p=0.0, inplace=False)\n        (2): Fp32GroupNorm(1, 512, eps=1e-05, affine=True)\n        (3): ReLU()\n      )\n      (5): Sequential(\n        (0): Conv1d(512, 512, kernel_size=(1,), stride=(1,), bias=False)\n        (1): Dropout(p=0.0, inplace=False)\n        (2): Fp32GroupNorm(1, 512, eps=1e-05, affine=True)\n        (3): ReLU()\n      )\n      (6): Sequential(\n        (0): Conv1d(512, 512, kernel_size=(1,), stride=(1,), bias=False)\n        (1): Dropout(p=0.0, inplace=False)\n        (2): Fp32GroupNorm(1, 512, eps=1e-05, affine=True)\n        (3): ReLU()\n      )\n    )\n  )\n  (feature_aggregator): ConvAggegator(\n    (conv_layers): Sequential(\n      (0): Sequential(\n        (0): ReplicationPad1d((1, 0))\n        (1): Conv1d(512, 512, kernel_size=(2,), stride=(1,))\n        (2): Dropout(p=0.0, inplace=False)\n        (3): Fp32GroupNorm(1, 512, eps=1e-05, affine=True)\n        (4): ReLU()\n      )\n      (1): Sequential(\n        (0): ReplicationPad1d((2, 0))\n        (1): Conv1d(512, 512, kernel_size=(3,), stride=(1,))\n        (2): Dropout(p=0.0, inplace=False)\n        (3): Fp32GroupNorm(1, 512, eps=1e-05, affine=True)\n        (4): ReLU()\n      )\n      (2): Sequential(\n        (0): ReplicationPad1d((3, 0))\n        (1): Conv1d(512, 512, kernel_size=(4,), stride=(1,))\n        (2): Dropout(p=0.0, inplace=False)\n        (3): Fp32GroupNorm(1, 512, eps=1e-05, affine=True)\n        (4): ReLU()\n      )\n      (3): Sequential(\n        (0): ReplicationPad1d((4, 0))\n        (1): Conv1d(512, 512, kernel_size=(5,), stride=(1,))\n        (2): Dropout(p=0.0, inplace=False)\n        (3): Fp32GroupNorm(1, 512, eps=1e-05, affine=True)\n        (4): ReLU()\n      )\n      (4): Sequential(\n        (0): ReplicationPad1d((5, 0))\n        (1): Conv1d(512, 512, kernel_size=(6,), stride=(1,))\n        (2): Dropout(p=0.0, inplace=False)\n        (3): Fp32GroupNorm(1, 512, eps=1e-05, affine=True)\n        (4): ReLU()\n      )\n      (5): Sequential(\n        (0): ReplicationPad1d((6, 0))\n        (1): Conv1d(512, 512, kernel_size=(7,), stride=(1,))\n        (2): Dropout(p=0.0, inplace=False)\n        (3): Fp32GroupNorm(1, 512, eps=1e-05, affine=True)\n        (4): ReLU()\n      )\n      (6): Sequential(\n        (0): ReplicationPad1d((7, 0))\n        (1): Conv1d(512, 512, kernel_size=(8,), stride=(1,))\n        (2): Dropout(p=0.0, inplace=False)\n        (3): Fp32GroupNorm(1, 512, eps=1e-05, affine=True)\n        (4): ReLU()\n      )\n      (7): Sequential(\n        (0): ReplicationPad1d((8, 0))\n        (1): Conv1d(512, 512, kernel_size=(9,), stride=(1,))\n        (2): Dropout(p=0.0, inplace=False)\n        (3): Fp32GroupNorm(1, 512, eps=1e-05, affine=True)\n        (4): ReLU()\n      )\n      (8): Sequential(\n        (0): ReplicationPad1d((9, 0))\n        (1): Conv1d(512, 512, kernel_size=(10,), stride=(1,))\n        (2): Dropout(p=0.0, inplace=False)\n        (3): Fp32GroupNorm(1, 512, eps=1e-05, affine=True)\n        (4): ReLU()\n      )\n      (9): Sequential(\n        (0): ReplicationPad1d((10, 0))\n        (1): Conv1d(512, 512, kernel_size=(11,), stride=(1,))\n        (2): Dropout(p=0.0, inplace=False)\n        (3): Fp32GroupNorm(1, 512, eps=1e-05, affine=True)\n        (4): ReLU()\n      )\n      (10): Sequential(\n        (0): ReplicationPad1d((11, 0))\n        (1): Conv1d(512, 512, kernel_size=(12,), stride=(1,))\n        (2): Dropout(p=0.0, inplace=False)\n        (3): Fp32GroupNorm(1, 512, eps=1e-05, affine=True)\n        (4): ReLU()\n      )\n      (11): Sequential(\n        (0): ReplicationPad1d((12, 0))\n        (1): Conv1d(512, 512, kernel_size=(13,), stride=(1,))\n        (2): Dropout(p=0.0, inplace=False)\n        (3): Fp32GroupNorm(1, 512, eps=1e-05, affine=True)\n        (4): ReLU()\n      )\n    )\n    (residual_proj): ModuleList(\n      (0): None\n      (1): None\n      (2): None\n      (3): None\n      (4): None\n      (5): None\n      (6): None\n      (7): None\n      (8): None\n      (9): None\n      (10): None\n      (11): None\n    )\n  )\n  (wav2vec_predictions): Wav2VecPredictionsModel(\n    (project_to_steps): ConvTranspose2d(512, 512, kernel_size=(1, 12), stride=(1, 1))\n    (dropout): Dropout(p=0.0, inplace=False)\n  )\n  (dropout_feats): Dropout(p=0.0, inplace=False)\n  (dropout_agg): Dropout(p=0.0, inplace=False)\n)\n"
    },
    {
     "output_type": "execute_result",
     "data": {
      "text/plain": "Wav2VecModel(\n  (feature_extractor): ConvFeatureExtractionModel(\n    (conv_layers): ModuleList(\n      (0): Sequential(\n        (0): Conv1d(1, 512, kernel_size=(10,), stride=(5,), bias=False)\n        (1): Dropout(p=0.0, inplace=False)\n        (2): Fp32GroupNorm(1, 512, eps=1e-05, affine=True)\n        (3): ReLU()\n      )\n      (1): Sequential(\n        (0): Conv1d(512, 512, kernel_size=(8,), stride=(4,), bias=False)\n        (1): Dropout(p=0.0, inplace=False)\n        (2): Fp32GroupNorm(1, 512, eps=1e-05, affine=True)\n        (3): ReLU()\n      )\n      (2): Sequential(\n        (0): Conv1d(512, 512, kernel_size=(4,), stride=(2,), bias=False)\n        (1): Dropout(p=0.0, inplace=False)\n        (2): Fp32GroupNorm(1, 512, eps=1e-05, affine=True)\n        (3): ReLU()\n      )\n      (3): Sequential(\n        (0): Conv1d(512, 512, kernel_size=(4,), stride=(2,), bias=False)\n        (1): Dropout(p=0.0, inplace=False)\n        (2): Fp32GroupNorm(1, 512, eps=1e-05, affine=True)\n        (3): ReLU()\n      )\n      (4): Sequential(\n        (0): Conv1d(512, 512, kernel_size=(4,), stride=(2,), bias=False)\n        (1): Dropout(p=0.0, inplace=False)\n        (2): Fp32GroupNorm(1, 512, eps=1e-05, affine=True)\n        (3): ReLU()\n      )\n      (5): Sequential(\n        (0): Conv1d(512, 512, kernel_size=(1,), stride=(1,), bias=False)\n        (1): Dropout(p=0.0, inplace=False)\n        (2): Fp32GroupNorm(1, 512, eps=1e-05, affine=True)\n        (3): ReLU()\n      )\n      (6): Sequential(\n        (0): Conv1d(512, 512, kernel_size=(1,), stride=(1,), bias=False)\n        (1): Dropout(p=0.0, inplace=False)\n        (2): Fp32GroupNorm(1, 512, eps=1e-05, affine=True)\n        (3): ReLU()\n      )\n    )\n  )\n  (feature_aggregator): ConvAggegator(\n    (conv_layers): Sequential(\n      (0): Sequential(\n        (0): ReplicationPad1d((1, 0))\n        (1): Conv1d(512, 512, kernel_size=(2,), stride=(1,))\n        (2): Dropout(p=0.0, inplace=False)\n        (3): Fp32GroupNorm(1, 512, eps=1e-05, affine=True)\n        (4): ReLU()\n      )\n      (1): Sequential(\n        (0): ReplicationPad1d((2, 0))\n        (1): Conv1d(512, 512, kernel_size=(3,), stride=(1,))\n        (2): Dropout(p=0.0, inplace=False)\n        (3): Fp32GroupNorm(1, 512, eps=1e-05, affine=True)\n        (4): ReLU()\n      )\n      (2): Sequential(\n        (0): ReplicationPad1d((3, 0))\n        (1): Conv1d(512, 512, kernel_size=(4,), stride=(1,))\n        (2): Dropout(p=0.0, inplace=False)\n        (3): Fp32GroupNorm(1, 512, eps=1e-05, affine=True)\n        (4): ReLU()\n      )\n      (3): Sequential(\n        (0): ReplicationPad1d((4, 0))\n        (1): Conv1d(512, 512, kernel_size=(5,), stride=(1,))\n        (2): Dropout(p=0.0, inplace=False)\n        (3): Fp32GroupNorm(1, 512, eps=1e-05, affine=True)\n        (4): ReLU()\n      )\n      (4): Sequential(\n        (0): ReplicationPad1d((5, 0))\n        (1): Conv1d(512, 512, kernel_size=(6,), stride=(1,))\n        (2): Dropout(p=0.0, inplace=False)\n        (3): Fp32GroupNorm(1, 512, eps=1e-05, affine=True)\n        (4): ReLU()\n      )\n      (5): Sequential(\n        (0): ReplicationPad1d((6, 0))\n        (1): Conv1d(512, 512, kernel_size=(7,), stride=(1,))\n        (2): Dropout(p=0.0, inplace=False)\n        (3): Fp32GroupNorm(1, 512, eps=1e-05, affine=True)\n        (4): ReLU()\n      )\n      (6): Sequential(\n        (0): ReplicationPad1d((7, 0))\n        (1): Conv1d(512, 512, kernel_size=(8,), stride=(1,))\n        (2): Dropout(p=0.0, inplace=False)\n        (3): Fp32GroupNorm(1, 512, eps=1e-05, affine=True)\n        (4): ReLU()\n      )\n      (7): Sequential(\n        (0): ReplicationPad1d((8, 0))\n        (1): Conv1d(512, 512, kernel_size=(9,), stride=(1,))\n        (2): Dropout(p=0.0, inplace=False)\n        (3): Fp32GroupNorm(1, 512, eps=1e-05, affine=True)\n        (4): ReLU()\n      )\n      (8): Sequential(\n        (0): ReplicationPad1d((9, 0))\n        (1): Conv1d(512, 512, kernel_size=(10,), stride=(1,))\n        (2): Dropout(p=0.0, inplace=False)\n        (3): Fp32GroupNorm(1, 512, eps=1e-05, affine=True)\n        (4): ReLU()\n      )\n      (9): Sequential(\n        (0): ReplicationPad1d((10, 0))\n        (1): Conv1d(512, 512, kernel_size=(11,), stride=(1,))\n        (2): Dropout(p=0.0, inplace=False)\n        (3): Fp32GroupNorm(1, 512, eps=1e-05, affine=True)\n        (4): ReLU()\n      )\n      (10): Sequential(\n        (0): ReplicationPad1d((11, 0))\n        (1): Conv1d(512, 512, kernel_size=(12,), stride=(1,))\n        (2): Dropout(p=0.0, inplace=False)\n        (3): Fp32GroupNorm(1, 512, eps=1e-05, affine=True)\n        (4): ReLU()\n      )\n      (11): Sequential(\n        (0): ReplicationPad1d((12, 0))\n        (1): Conv1d(512, 512, kernel_size=(13,), stride=(1,))\n        (2): Dropout(p=0.0, inplace=False)\n        (3): Fp32GroupNorm(1, 512, eps=1e-05, affine=True)\n        (4): ReLU()\n      )\n    )\n    (residual_proj): ModuleList(\n      (0): None\n      (1): None\n      (2): None\n      (3): None\n      (4): None\n      (5): None\n      (6): None\n      (7): None\n      (8): None\n      (9): None\n      (10): None\n      (11): None\n    )\n  )\n  (wav2vec_predictions): Wav2VecPredictionsModel(\n    (project_to_steps): ConvTranspose2d(512, 512, kernel_size=(1, 12), stride=(1, 1))\n    (dropout): Dropout(p=0.0, inplace=False)\n  )\n  (dropout_feats): Dropout(p=0.0, inplace=False)\n  (dropout_agg): Dropout(p=0.0, inplace=False)\n)"
     },
     "metadata": {},
     "execution_count": 4
    }
   ],
   "source": [
    "cp = torch.load('wav2vec_large.pt',map_location=torch.device('cpu'))\n",
    "model = Wav2VecModel.build_model(cp['args'], task=None)\n",
    "model.load_state_dict(cp['model'])\n",
    "model.eval()"
   ]
  },
  {
   "cell_type": "code",
   "execution_count": 8,
   "metadata": {
    "tags": []
   },
   "outputs": [
    {
     "output_type": "stream",
     "name": "stdout",
     "text": "tensor([[-0.4459, -0.9507, -0.4878,  ...,  1.3605, -0.5447,  0.9433]])\n"
    },
    {
     "output_type": "execute_result",
     "data": {
      "text/plain": "tensor([[[2.5149e-02, 1.8407e-02, 2.1503e-02,  ..., 1.5585e-02,\n          1.8384e-02, 1.5623e-03],\n         [2.5810e-04, 5.9348e-04, 1.6409e-02,  ..., 5.8323e-02,\n          8.6536e-04, 6.5153e-03],\n         [2.1172e-02, 0.0000e+00, 2.9426e-03,  ..., 5.8322e-03,\n          4.6896e-03, 0.0000e+00],\n         ...,\n         [2.3478e-05, 1.1042e-03, 0.0000e+00,  ..., 2.0213e-03,\n          0.0000e+00, 0.0000e+00],\n         [9.0235e-02, 6.8277e-02, 1.0346e-01,  ..., 3.2361e-01,\n          3.6492e-01, 2.7135e-01],\n         [2.9137e-01, 3.1641e-01, 3.2684e-01,  ..., 2.4398e-01,\n          1.8389e-01, 1.8778e-01]]], grad_fn=<MulBackward0>)"
     },
     "metadata": {},
     "execution_count": 8
    }
   ],
   "source": [
    "# Test that it works\n",
    "wav_input_16khz = torch.randn(1,10000)\n",
    "print(wav_input_16khz)\n",
    "z = model.feature_extractor(wav_input_16khz)\n",
    "c = model.feature_aggregator(z)\n",
    "c"
   ]
  },
  {
   "cell_type": "code",
   "execution_count": 16,
   "metadata": {},
   "outputs": [
    {
     "output_type": "execute_result",
     "data": {
      "text/plain": "torch.Size([1, 10000])"
     },
     "metadata": {},
     "execution_count": 16
    }
   ],
   "source": [
    "#dir(wav_input_16khz)\n",
    "wav_input_16khz.size()"
   ]
  },
  {
   "cell_type": "markdown",
   "metadata": {},
   "source": [
    "We test with a custom file"
   ]
  },
  {
   "cell_type": "code",
   "execution_count": 6,
   "metadata": {},
   "outputs": [],
   "source": [
    "import librosa"
   ]
  },
  {
   "cell_type": "code",
   "execution_count": 23,
   "metadata": {
    "tags": []
   },
   "outputs": [
    {
     "output_type": "stream",
     "name": "stdout",
     "text": "(array([ 0.        ,  0.        ,  0.        , ..., -0.00349916,\n       -0.00802596,  0.        ], dtype=float32), 22050)\n"
    },
    {
     "output_type": "execute_result",
     "data": {
      "text/plain": "tensor([[[0.0635, 0.0635, 0.0635,  ..., 0.0279, 0.0398, 0.0354],\n         [0.0221, 0.0221, 0.0221,  ..., 0.1054, 0.0568, 0.1092],\n         [0.0005, 0.0005, 0.0005,  ..., 0.0977, 0.3109, 0.3539],\n         ...,\n         [0.0000, 0.0000, 0.0000,  ..., 0.0037, 0.0084, 0.0127],\n         [0.4041, 0.4041, 0.4041,  ..., 0.1282, 0.0406, 0.1174],\n         [0.0088, 0.0088, 0.0088,  ..., 0.0772, 0.1449, 0.2367]]],\n       grad_fn=<MulBackward0>)"
     },
     "metadata": {},
     "execution_count": 23
    }
   ],
   "source": [
    "wav_input = librosa.load('data/solberg.wav')\n",
    "print(wav_input)\n",
    "tensors = torch.from_numpy(wav_input[0]).reshape(1,wav_input[0].size)\n",
    "z = model.feature_extractor(tensors)\n",
    "c = model.feature_aggregator(z)\n",
    "c"
   ]
  }
 ],
 "metadata": {
  "kernelspec": {
   "display_name": "Python 3.7.7 64-bit ('wav2vec': conda)",
   "language": "python",
   "name": "python_defaultSpec_1594291402488"
  },
  "language_info": {
   "codemirror_mode": {
    "name": "ipython",
    "version": 3
   },
   "file_extension": ".py",
   "mimetype": "text/x-python",
   "name": "python",
   "nbconvert_exporter": "python",
   "pygments_lexer": "ipython3",
   "version": "3.7.7-final"
  }
 },
 "nbformat": 4,
 "nbformat_minor": 4
}
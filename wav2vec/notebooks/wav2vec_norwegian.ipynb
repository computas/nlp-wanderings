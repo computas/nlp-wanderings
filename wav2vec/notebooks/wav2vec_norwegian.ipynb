{
 "cells": [
  {
   "cell_type": "markdown",
   "metadata": {},
   "source": [
    "# Test of wav2vec for norwegian\n",
    "\n",
    "**Author:** [Computas AS](https://github.com/computas) ([kontakt@computas.com](mailto:kontakt@computas.com))\n",
    "\n",
    "**Achievement:** *[Short, preferably single-line, statement of what has been accomplished. For example, \"Assuming ... and using ... we show that ...\".]*\n",
    "\n",
    "## Introduction\n",
    "\n",
    "This is a simple quality test of Facebook's wav2vec ASR system.\n",
    "\n",
    "Based on the code from: \n",
    "- https://github.com/pytorch/fairseq/tree/master/examples/wav2vec"
   ]
  },
  {
   "cell_type": "markdown",
   "metadata": {},
   "source": [
    "# Reproducibility and code formatting"
   ]
  },
  {
   "cell_type": "code",
   "execution_count": 1,
   "metadata": {
    "tags": []
   },
   "outputs": [],
   "source": [
    "# To watermark the environment\n",
    "%load_ext watermark\n",
    "\n",
    "# For automatic code formatting in jupyter lab.\n",
    "%load_ext lab_black\n",
    "\n",
    "# For automatic code formatting in jupyter notebook\n",
    "%load_ext nb_black"
   ]
  },
  {
   "cell_type": "markdown",
   "metadata": {},
   "source": [
    "# ASR"
   ]
  },
  {
   "cell_type": "code",
   "execution_count": 3,
   "metadata": {
    "tags": []
   },
   "outputs": [
    {
     "output_type": "stream",
     "name": "stdout",
     "text": "--2020-07-09 13:04:08--  https://dl.fbaipublicfiles.com/fairseq/wav2vec/wav2vec_large.pt\nResolving dl.fbaipublicfiles.com (dl.fbaipublicfiles.com)...104.22.75.142, 172.67.9.4, 104.22.74.142, ...\nConnecting to dl.fbaipublicfiles.com (dl.fbaipublicfiles.com)|104.22.75.142|:443... connected.\nHTTP request sent, awaiting response...200 OK\nLength: 325396342 (310M) [application/octet-stream]\nSaving to: ‘wav2vec_large.pt.2’\n\nwav2vec_large.pt.2  100%[===================>] 310,32M  8,62MB/s    in 38s     \n\n2020-07-09 13:04:47 (8,11 MB/s) - ‘wav2vec_large.pt.2’ saved [325396342/325396342]\n\n"
    }
   ],
   "source": [
    "# Download wav2vec large\n",
    "!wget https://dl.fbaipublicfiles.com/fairseq/wav2vec/wav2vec_large.pt"
   ]
  },
  {
   "cell_type": "code",
   "execution_count": null,
   "metadata": {},
   "outputs": [],
   "source": [
    "import torch\n",
    "from fairseq.models.wav2vec import Wav2VecModel"
   ]
  },
  {
   "cell_type": "code",
   "execution_count": 6,
   "metadata": {
    "tags": []
   },
   "outputs": [
    {
     "output_type": "stream",
     "name": "stdout",
     "text": "Wav2VecModel(\n  (feature_extractor): ConvFeatureExtractionModel(\n    (conv_layers): ModuleList(\n      (0): Sequential(\n        (0): Conv1d(1, 512, kernel_size=(10,), stride=(5,), bias=False)\n        (1): Dropout(p=0.0, inplace=False)\n        (2): Fp32GroupNorm(1, 512, eps=1e-05, affine=True)\n        (3): ReLU()\n      )\n      (1): Sequential(\n        (0): Conv1d(512, 512, kernel_size=(8,), stride=(4,), bias=False)\n        (1): Dropout(p=0.0, inplace=False)\n        (2): Fp32GroupNorm(1, 512, eps=1e-05, affine=True)\n        (3): ReLU()\n      )\n      (2): Sequential(\n        (0): Conv1d(512, 512, kernel_size=(4,), stride=(2,), bias=False)\n        (1): Dropout(p=0.0, inplace=False)\n        (2): Fp32GroupNorm(1, 512, eps=1e-05, affine=True)\n        (3): ReLU()\n      )\n      (3): Sequential(\n        (0): Conv1d(512, 512, kernel_size=(4,), stride=(2,), bias=False)\n        (1): Dropout(p=0.0, inplace=False)\n        (2): Fp32GroupNorm(1, 512, eps=1e-05, affine=True)\n        (3): ReLU()\n      )\n      (4): Sequential(\n        (0): Conv1d(512, 512, kernel_size=(4,), stride=(2,), bias=False)\n        (1): Dropout(p=0.0, inplace=False)\n        (2): Fp32GroupNorm(1, 512, eps=1e-05, affine=True)\n        (3): ReLU()\n      )\n      (5): Sequential(\n        (0): Conv1d(512, 512, kernel_size=(1,), stride=(1,), bias=False)\n        (1): Dropout(p=0.0, inplace=False)\n        (2): Fp32GroupNorm(1, 512, eps=1e-05, affine=True)\n        (3): ReLU()\n      )\n      (6): Sequential(\n        (0): Conv1d(512, 512, kernel_size=(1,), stride=(1,), bias=False)\n        (1): Dropout(p=0.0, inplace=False)\n        (2): Fp32GroupNorm(1, 512, eps=1e-05, affine=True)\n        (3): ReLU()\n      )\n    )\n  )\n  (feature_aggregator): ConvAggegator(\n    (conv_layers): Sequential(\n      (0): Sequential(\n        (0): ReplicationPad1d((1, 0))\n        (1): Conv1d(512, 512, kernel_size=(2,), stride=(1,))\n        (2): Dropout(p=0.0, inplace=False)\n        (3): Fp32GroupNorm(1, 512, eps=1e-05, affine=True)\n        (4): ReLU()\n      )\n      (1): Sequential(\n        (0): ReplicationPad1d((2, 0))\n        (1): Conv1d(512, 512, kernel_size=(3,), stride=(1,))\n        (2): Dropout(p=0.0, inplace=False)\n        (3): Fp32GroupNorm(1, 512, eps=1e-05, affine=True)\n        (4): ReLU()\n      )\n      (2): Sequential(\n        (0): ReplicationPad1d((3, 0))\n        (1): Conv1d(512, 512, kernel_size=(4,), stride=(1,))\n        (2): Dropout(p=0.0, inplace=False)\n        (3): Fp32GroupNorm(1, 512, eps=1e-05, affine=True)\n        (4): ReLU()\n      )\n      (3): Sequential(\n        (0): ReplicationPad1d((4, 0))\n        (1): Conv1d(512, 512, kernel_size=(5,), stride=(1,))\n        (2): Dropout(p=0.0, inplace=False)\n        (3): Fp32GroupNorm(1, 512, eps=1e-05, affine=True)\n        (4): ReLU()\n      )\n      (4): Sequential(\n        (0): ReplicationPad1d((5, 0))\n        (1): Conv1d(512, 512, kernel_size=(6,), stride=(1,))\n        (2): Dropout(p=0.0, inplace=False)\n        (3): Fp32GroupNorm(1, 512, eps=1e-05, affine=True)\n        (4): ReLU()\n      )\n      (5): Sequential(\n        (0): ReplicationPad1d((6, 0))\n        (1): Conv1d(512, 512, kernel_size=(7,), stride=(1,))\n        (2): Dropout(p=0.0, inplace=False)\n        (3): Fp32GroupNorm(1, 512, eps=1e-05, affine=True)\n        (4): ReLU()\n      )\n      (6): Sequential(\n        (0): ReplicationPad1d((7, 0))\n        (1): Conv1d(512, 512, kernel_size=(8,), stride=(1,))\n        (2): Dropout(p=0.0, inplace=False)\n        (3): Fp32GroupNorm(1, 512, eps=1e-05, affine=True)\n        (4): ReLU()\n      )\n      (7): Sequential(\n        (0): ReplicationPad1d((8, 0))\n        (1): Conv1d(512, 512, kernel_size=(9,), stride=(1,))\n        (2): Dropout(p=0.0, inplace=False)\n        (3): Fp32GroupNorm(1, 512, eps=1e-05, affine=True)\n        (4): ReLU()\n      )\n      (8): Sequential(\n        (0): ReplicationPad1d((9, 0))\n        (1): Conv1d(512, 512, kernel_size=(10,), stride=(1,))\n        (2): Dropout(p=0.0, inplace=False)\n        (3): Fp32GroupNorm(1, 512, eps=1e-05, affine=True)\n        (4): ReLU()\n      )\n      (9): Sequential(\n        (0): ReplicationPad1d((10, 0))\n        (1): Conv1d(512, 512, kernel_size=(11,), stride=(1,))\n        (2): Dropout(p=0.0, inplace=False)\n        (3): Fp32GroupNorm(1, 512, eps=1e-05, affine=True)\n        (4): ReLU()\n      )\n      (10): Sequential(\n        (0): ReplicationPad1d((11, 0))\n        (1): Conv1d(512, 512, kernel_size=(12,), stride=(1,))\n        (2): Dropout(p=0.0, inplace=False)\n        (3): Fp32GroupNorm(1, 512, eps=1e-05, affine=True)\n        (4): ReLU()\n      )\n      (11): Sequential(\n        (0): ReplicationPad1d((12, 0))\n        (1): Conv1d(512, 512, kernel_size=(13,), stride=(1,))\n        (2): Dropout(p=0.0, inplace=False)\n        (3): Fp32GroupNorm(1, 512, eps=1e-05, affine=True)\n        (4): ReLU()\n      )\n    )\n    (residual_proj): ModuleList(\n      (0): None\n      (1): None\n      (2): None\n      (3): None\n      (4): None\n      (5): None\n      (6): None\n      (7): None\n      (8): None\n      (9): None\n      (10): None\n      (11): None\n    )\n  )\n  (wav2vec_predictions): Wav2VecPredictionsModel(\n    (project_to_steps): ConvTranspose2d(512, 512, kernel_size=(1, 12), stride=(1, 1))\n    (dropout): Dropout(p=0.0, inplace=False)\n  )\n  (dropout_feats): Dropout(p=0.0, inplace=False)\n  (dropout_agg): Dropout(p=0.0, inplace=False)\n)\n"
    },
    {
     "output_type": "execute_result",
     "data": {
      "text/plain": "Wav2VecModel(\n  (feature_extractor): ConvFeatureExtractionModel(\n    (conv_layers): ModuleList(\n      (0): Sequential(\n        (0): Conv1d(1, 512, kernel_size=(10,), stride=(5,), bias=False)\n        (1): Dropout(p=0.0, inplace=False)\n        (2): Fp32GroupNorm(1, 512, eps=1e-05, affine=True)\n        (3): ReLU()\n      )\n      (1): Sequential(\n        (0): Conv1d(512, 512, kernel_size=(8,), stride=(4,), bias=False)\n        (1): Dropout(p=0.0, inplace=False)\n        (2): Fp32GroupNorm(1, 512, eps=1e-05, affine=True)\n        (3): ReLU()\n      )\n      (2): Sequential(\n        (0): Conv1d(512, 512, kernel_size=(4,), stride=(2,), bias=False)\n        (1): Dropout(p=0.0, inplace=False)\n        (2): Fp32GroupNorm(1, 512, eps=1e-05, affine=True)\n        (3): ReLU()\n      )\n      (3): Sequential(\n        (0): Conv1d(512, 512, kernel_size=(4,), stride=(2,), bias=False)\n        (1): Dropout(p=0.0, inplace=False)\n        (2): Fp32GroupNorm(1, 512, eps=1e-05, affine=True)\n        (3): ReLU()\n      )\n      (4): Sequential(\n        (0): Conv1d(512, 512, kernel_size=(4,), stride=(2,), bias=False)\n        (1): Dropout(p=0.0, inplace=False)\n        (2): Fp32GroupNorm(1, 512, eps=1e-05, affine=True)\n        (3): ReLU()\n      )\n      (5): Sequential(\n        (0): Conv1d(512, 512, kernel_size=(1,), stride=(1,), bias=False)\n        (1): Dropout(p=0.0, inplace=False)\n        (2): Fp32GroupNorm(1, 512, eps=1e-05, affine=True)\n        (3): ReLU()\n      )\n      (6): Sequential(\n        (0): Conv1d(512, 512, kernel_size=(1,), stride=(1,), bias=False)\n        (1): Dropout(p=0.0, inplace=False)\n        (2): Fp32GroupNorm(1, 512, eps=1e-05, affine=True)\n        (3): ReLU()\n      )\n    )\n  )\n  (feature_aggregator): ConvAggegator(\n    (conv_layers): Sequential(\n      (0): Sequential(\n        (0): ReplicationPad1d((1, 0))\n        (1): Conv1d(512, 512, kernel_size=(2,), stride=(1,))\n        (2): Dropout(p=0.0, inplace=False)\n        (3): Fp32GroupNorm(1, 512, eps=1e-05, affine=True)\n        (4): ReLU()\n      )\n      (1): Sequential(\n        (0): ReplicationPad1d((2, 0))\n        (1): Conv1d(512, 512, kernel_size=(3,), stride=(1,))\n        (2): Dropout(p=0.0, inplace=False)\n        (3): Fp32GroupNorm(1, 512, eps=1e-05, affine=True)\n        (4): ReLU()\n      )\n      (2): Sequential(\n        (0): ReplicationPad1d((3, 0))\n        (1): Conv1d(512, 512, kernel_size=(4,), stride=(1,))\n        (2): Dropout(p=0.0, inplace=False)\n        (3): Fp32GroupNorm(1, 512, eps=1e-05, affine=True)\n        (4): ReLU()\n      )\n      (3): Sequential(\n        (0): ReplicationPad1d((4, 0))\n        (1): Conv1d(512, 512, kernel_size=(5,), stride=(1,))\n        (2): Dropout(p=0.0, inplace=False)\n        (3): Fp32GroupNorm(1, 512, eps=1e-05, affine=True)\n        (4): ReLU()\n      )\n      (4): Sequential(\n        (0): ReplicationPad1d((5, 0))\n        (1): Conv1d(512, 512, kernel_size=(6,), stride=(1,))\n        (2): Dropout(p=0.0, inplace=False)\n        (3): Fp32GroupNorm(1, 512, eps=1e-05, affine=True)\n        (4): ReLU()\n      )\n      (5): Sequential(\n        (0): ReplicationPad1d((6, 0))\n        (1): Conv1d(512, 512, kernel_size=(7,), stride=(1,))\n        (2): Dropout(p=0.0, inplace=False)\n        (3): Fp32GroupNorm(1, 512, eps=1e-05, affine=True)\n        (4): ReLU()\n      )\n      (6): Sequential(\n        (0): ReplicationPad1d((7, 0))\n        (1): Conv1d(512, 512, kernel_size=(8,), stride=(1,))\n        (2): Dropout(p=0.0, inplace=False)\n        (3): Fp32GroupNorm(1, 512, eps=1e-05, affine=True)\n        (4): ReLU()\n      )\n      (7): Sequential(\n        (0): ReplicationPad1d((8, 0))\n        (1): Conv1d(512, 512, kernel_size=(9,), stride=(1,))\n        (2): Dropout(p=0.0, inplace=False)\n        (3): Fp32GroupNorm(1, 512, eps=1e-05, affine=True)\n        (4): ReLU()\n      )\n      (8): Sequential(\n        (0): ReplicationPad1d((9, 0))\n        (1): Conv1d(512, 512, kernel_size=(10,), stride=(1,))\n        (2): Dropout(p=0.0, inplace=False)\n        (3): Fp32GroupNorm(1, 512, eps=1e-05, affine=True)\n        (4): ReLU()\n      )\n      (9): Sequential(\n        (0): ReplicationPad1d((10, 0))\n        (1): Conv1d(512, 512, kernel_size=(11,), stride=(1,))\n        (2): Dropout(p=0.0, inplace=False)\n        (3): Fp32GroupNorm(1, 512, eps=1e-05, affine=True)\n        (4): ReLU()\n      )\n      (10): Sequential(\n        (0): ReplicationPad1d((11, 0))\n        (1): Conv1d(512, 512, kernel_size=(12,), stride=(1,))\n        (2): Dropout(p=0.0, inplace=False)\n        (3): Fp32GroupNorm(1, 512, eps=1e-05, affine=True)\n        (4): ReLU()\n      )\n      (11): Sequential(\n        (0): ReplicationPad1d((12, 0))\n        (1): Conv1d(512, 512, kernel_size=(13,), stride=(1,))\n        (2): Dropout(p=0.0, inplace=False)\n        (3): Fp32GroupNorm(1, 512, eps=1e-05, affine=True)\n        (4): ReLU()\n      )\n    )\n    (residual_proj): ModuleList(\n      (0): None\n      (1): None\n      (2): None\n      (3): None\n      (4): None\n      (5): None\n      (6): None\n      (7): None\n      (8): None\n      (9): None\n      (10): None\n      (11): None\n    )\n  )\n  (wav2vec_predictions): Wav2VecPredictionsModel(\n    (project_to_steps): ConvTranspose2d(512, 512, kernel_size=(1, 12), stride=(1, 1))\n    (dropout): Dropout(p=0.0, inplace=False)\n  )\n  (dropout_feats): Dropout(p=0.0, inplace=False)\n  (dropout_agg): Dropout(p=0.0, inplace=False)\n)"
     },
     "metadata": {},
     "execution_count": 6
    }
   ],
   "source": [
    "cp = torch.load('wav2vec_large.pt',map_location=torch.device('cpu'))\n",
    "model = Wav2VecModel.build_model(cp['args'], task=None)\n",
    "model.load_state_dict(cp['model'])\n",
    "model.eval()"
   ]
  },
  {
   "cell_type": "code",
   "execution_count": 7,
   "metadata": {
    "tags": []
   },
   "outputs": [
    {
     "output_type": "execute_result",
     "data": {
      "text/plain": "tensor([[[1.5352e-02, 2.5548e-02, 2.2611e-02,  ..., 1.8008e-02,\n          1.9221e-02, 2.5454e-02],\n         [2.5437e-04, 1.0058e-03, 1.0113e-03,  ..., 1.5988e-02,\n          5.0164e-02, 2.9576e-02],\n         [7.5008e-03, 0.0000e+00, 9.1924e-04,  ..., 1.7227e-03,\n          1.8247e-02, 4.3611e-03],\n         ...,\n         [6.1493e-03, 8.0292e-04, 6.0493e-04,  ..., 0.0000e+00,\n          0.0000e+00, 4.4917e-03],\n         [1.0668e-01, 1.5695e-01, 1.7490e-01,  ..., 4.5870e-01,\n          2.5599e-01, 2.8228e-01],\n         [2.5950e-01, 2.8349e-01, 2.6760e-01,  ..., 3.3884e-01,\n          3.5796e-01, 3.6244e-01]]], grad_fn=<MulBackward0>)"
     },
     "metadata": {},
     "execution_count": 7
    }
   ],
   "source": [
    "# Test that it works\n",
    "wav_input_16khz = torch.randn(1,10000)\n",
    "# print(wav_input_16khz)\n",
    "z = model.feature_extractor(wav_input_16khz)\n",
    "c = model.feature_aggregator(z)\n",
    "c"
   ]
  },
  {
   "cell_type": "code",
   "execution_count": 8,
   "metadata": {},
   "outputs": [
    {
     "output_type": "execute_result",
     "data": {
      "text/plain": "torch.Size([1, 10000])"
     },
     "metadata": {},
     "execution_count": 8
    }
   ],
   "source": [
    "#dir(wav_input_16khz)\n",
    "wav_input_16khz.size()"
   ]
  },
  {
   "cell_type": "markdown",
   "metadata": {},
   "source": [
    "We test with a custom file"
   ]
  },
  {
   "cell_type": "code",
   "execution_count": 9,
   "metadata": {},
   "outputs": [],
   "source": [
    "import librosa"
   ]
  },
  {
   "cell_type": "code",
   "execution_count": 10,
   "metadata": {
    "tags": []
   },
   "outputs": [
    {
     "output_type": "execute_result",
     "data": {
      "text/plain": "tensor([[[0.0635, 0.0635, 0.0635,  ..., 0.0279, 0.0398, 0.0354],\n         [0.0221, 0.0221, 0.0221,  ..., 0.1054, 0.0568, 0.1092],\n         [0.0005, 0.0005, 0.0005,  ..., 0.0977, 0.3109, 0.3539],\n         ...,\n         [0.0000, 0.0000, 0.0000,  ..., 0.0037, 0.0084, 0.0127],\n         [0.4041, 0.4041, 0.4041,  ..., 0.1282, 0.0406, 0.1174],\n         [0.0088, 0.0088, 0.0088,  ..., 0.0772, 0.1449, 0.2367]]],\n       grad_fn=<MulBackward0>)"
     },
     "metadata": {},
     "execution_count": 10
    }
   ],
   "source": [
    "wav_input = librosa.load('data/solberg.wav')\n",
    "#print(wav_input)\n",
    "tensors = torch.from_numpy(wav_input[0]).reshape(1,wav_input[0].size)\n",
    "z = model.feature_extractor(tensors)\n",
    "c = model.feature_aggregator(z)\n",
    "c"
   ]
  },
  {
   "cell_type": "markdown",
   "metadata": {},
   "source": [
    "# Watermarks of the enviroment\n",
    "\n",
    "Make sure you run this last!"
   ]
  },
  {
   "cell_type": "code",
   "execution_count": 11,
   "metadata": {
    "tags": []
   },
   "outputs": [
    {
     "output_type": "stream",
     "name": "stdout",
     "text": "librosa 0.7.2\ntorch   1.5.1\nCPython 3.7.7\nIPython 7.16.1\n\ncompiler   : GCC 7.3.0\nsystem     : Linux\nrelease    : 5.3.0-62-generic\nmachine    : x86_64\nprocessor  : x86_64\nCPU cores  : 8\ninterpreter: 64bit\nGit hash   : 523878ff55a626c559575bc60fca2cc349e830a4\nGit branch : master\n"
    }
   ],
   "source": [
    "%watermark -gb -iv -m -v"
   ]
  },
  {
   "cell_type": "code",
   "execution_count": null,
   "metadata": {},
   "outputs": [],
   "source": []
  }
 ],
 "metadata": {
  "kernelspec": {
   "display_name": "Python 3.7.7 64-bit ('wav2vec': conda)",
   "language": "python",
   "name": "python_defaultSpec_1594291402488"
  },
  "language_info": {
   "codemirror_mode": {
    "name": "ipython",
    "version": 3
   },
   "file_extension": ".py",
   "mimetype": "text/x-python",
   "name": "python",
   "nbconvert_exporter": "python",
   "pygments_lexer": "ipython3",
   "version": "3.7.7-final"
  }
 },
 "nbformat": 4,
 "nbformat_minor": 4
}
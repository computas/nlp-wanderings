{
 "cells": [
  {
   "cell_type": "markdown",
   "metadata": {},
   "source": [
    "# Sentence Embeddings using Siamese BERT-Networks\n",
    "\n",
    "Based on the code from: \n",
    "- https://github.com/UKPLab/sentence-transformers/blob/master/examples/application_semantic_search.py\n",
    "- https://github.com/UKPLab/sentence-transformers/blob/master/examples/training_nli_bert.py\n",
    "- https://github.com/UKPLab/sentence-transformers/blob/master/examples/application_clustering.py\n",
    "\n",
    "This is a simple test application for sentence embeddings: semantic search in norwegian\n",
    "\n",
    "We have a corpus with various sentences. Then, for a given query sentence, we want to find the most similar sentence in this corpus.\n",
    "\n",
    "This script outputs for various queries the top 5 most similar sentences in the corpus.\n"
   ]
  },
  {
   "cell_type": "code",
   "execution_count": 1,
   "metadata": {},
   "outputs": [],
   "source": [
    "from sentence_transformers import SentenceTransformer, models\n",
    "import scipy.spatial"
   ]
  },
  {
   "cell_type": "code",
   "execution_count": 4,
   "metadata": {},
   "outputs": [],
   "source": [
    "# Define a corpus to try the examples\n",
    "\n",
    "# Corpus with example sentences. Each group of 3 consecutive sentences is taken \n",
    "# from the same news article in norwegian.\n",
    "corpus = ['Legevakten i Trondheim ble onsdag ettermiddag delvis stengt.',\n",
    "          '58 personer var inntil tirsdag testet for coronaviruset i Norge.',\n",
    "          'På døren utenfor legevakten i Trondheim blir personer som tror de kan være smittet av coronaviruset, bedt om å vente utenfor og bruke ringeklokken .',\n",
    "          'Tyrkias militære aksjoner inne i Syria får kritikk fra den norske forsvarsministeren Frank Bakke-Jensen.',\n",
    "          'Tyrkias forsvarsminister Hulusi Akarg orienterte sine kolleger i NATO om situasjonen i Idlib-regionen på alliansens forsvarsministermøte i Brussel onsdag.',\n",
    "          'NATO-sjef Jens Stoltenberg fordømte også Syria og Russlands aksjoner, men kommenterte ikke Tyrkias militære handlinger.',\n",
    "          'De vordende foreldrene er lettet over å få tilbringe natten under et tak.',\n",
    "          'Kathy (31) er gravid og hjemløs.',\n",
    "          'Nå har hun bodd på gaten i åtte måneder.'\n",
    "          ]\n",
    "\n",
    "# Query sentences:\n",
    "# Each sentence is taken from the corresponding news article for the corpus.\n",
    "queries = ['Færre enn fem var på venterommet sammen med denne personen, og de er informert om at det kan ha vært en smittesituasjon.', \n",
    "           'Tyrkia får norsk kritikk for Syria-aksjoner.', \n",
    "           'I tillegg ser mange ned på oss fordi vi er hjemløse.']\n"
   ]
  },
  {
   "cell_type": "markdown",
   "metadata": {},
   "source": [
    "Now we need to choose a model. Choose wisely from this list: \n",
    "- https://github.com/UKPLab/sentence-transformers#english-pre-trained-models\n",
    "- https://huggingface.co/transformers/pretrained_models.html"
   ]
  },
  {
   "cell_type": "code",
   "execution_count": 30,
   "metadata": {},
   "outputs": [],
   "source": [
    "# Define our models to test\n",
    "\n",
    "# https://github.com/UKPLab/sentence-transformers/blob/master/docs/pretrained-models/multilingual-models.md\n",
    "distiluse_embedder = SentenceTransformer('distiluse-base-multilingual-cased', device='cpu')\n",
    "\n",
    "# Usual BERT english\n",
    "# https://github.com/UKPLab/sentence-transformers/blob/master/docs/pretrained-models/nli-models.md\n",
    "bert_embedder = SentenceTransformer('bert-base-nli-mean-tokens', device='cpu')\n",
    "\n",
    "# To use models not defined by the SentenceTransformer we have to do a bit more\n",
    "\n",
    "# Use multilingual bert uncased (seems not to be recommended by huggingface documentation)\n",
    "mult_bert_uncased_model = models.BERT('bert-base-multilingual-uncased')\n",
    "# Apply mean pooling to get one fixed sized sentence vector. You can try different options here.\n",
    "mult_bert_uncased_pooling = models.Pooling(mult_bert_uncased_model.get_word_embedding_dimension(),\n",
    "                               pooling_mode_mean_tokens=True,\n",
    "                               pooling_mode_cls_token=False,\n",
    "                               pooling_mode_max_tokens=False)\n",
    "mult_bert_uncased_embedder = SentenceTransformer(modules=[mult_bert_uncased_model, mult_bert_uncased_pooling], device='cpu')\n",
    "\n",
    "# This is recommended instead\n",
    "mult_distilbert_cased_model = models.DistilBERT('distilbert-base-multilingual-cased')\n",
    "# Apply mean pooling to get one fixed sized sentence vector\n",
    "mult_distilbert_cased_pooling = models.Pooling(mult_distilbert_cased_model.get_word_embedding_dimension(),\n",
    "                               pooling_mode_mean_tokens=True,\n",
    "                               pooling_mode_cls_token=False,\n",
    "                               pooling_mode_max_tokens=False)\n",
    "mult_distilbert_uncased_embedder = SentenceTransformer(modules=[mult_distilbert_cased_model, mult_distilbert_cased_pooling], device='cpu')\n"
   ]
  },
  {
   "cell_type": "markdown",
   "metadata": {},
   "source": [
    "Define auxiliary functions to process the data. We want to see the clusters also, to see how these models capture meaning."
   ]
  },
  {
   "cell_type": "code",
   "execution_count": null,
   "metadata": {},
   "outputs": [],
   "source": [
    "from sklearn.cluster import KMeans\n",
    "\n",
    "# For clustering, it is recommended these models:\n",
    "# https://github.com/UKPLab/sentence-transformers/blob/master/docs/pretrained-models/wikipedia-sections-models.md\n",
    "def get_top_5_closest(queries, corpus, query_embeddings, corpus_embeddings, top_n=5):\n",
    "    closest_n = top_n\n",
    "    for query, query_embedding in zip(queries, query_embeddings):\n",
    "        distances = scipy.spatial.distance.cdist([query_embedding], corpus_embeddings, \"cosine\")[0]\n",
    "\n",
    "        results = zip(range(len(distances)), distances)\n",
    "        results = sorted(results, key=lambda x: x[1])\n",
    "\n",
    "        print(\"\\n\\n======================\\n\\n\")\n",
    "        print(\"Query:\", query)\n",
    "        print(\"\\nTop 5 most similar sentences in corpus:\")\n",
    "\n",
    "        for idx, distance in results[0:closest_n]:\n",
    "            print(corpus[idx].strip(), \"(Score: %.4f)\" % (1-distance))\n",
    "\n",
    "def get_cluster_embeddings(corpus_embeddings, num_clusters=5):\n",
    "    clustering_model = KMeans(n_clusters=num_clusters)\n",
    "    clustering_model.fit(corpus_embeddings)\n",
    "    return clustering_model\n",
    "\n",
    "def print_clusters(clustering_model, corpus, num_clusters=5):\n",
    "    cluster_assignment = clustering_model.labels_\n",
    "    clustered_sentences = [[] for i in range(num_clusters)]\n",
    "    for sentence_id, cluster_id in enumerate(cluster_assignment):\n",
    "        clustered_sentences[cluster_id].append(corpus[sentence_id])\n",
    "\n",
    "    for i, cluster in enumerate(clustered_sentences):\n",
    "        print(\"Cluster \", i+1)\n",
    "        print(cluster)\n",
    "        print(\"\")"
   ]
  },
  {
   "cell_type": "markdown",
   "metadata": {},
   "source": [
    "Now we create the embeddings for the queries and the corpus for each embedder:"
   ]
  },
  {
   "cell_type": "code",
   "execution_count": 7,
   "metadata": {},
   "outputs": [],
   "source": [
    "distiluse_corpus_embeddings = distiluse_embedder.encode(corpus)\n",
    "distiluse_query_embeddings = distiluse_embedder.encode(queries)\n",
    "\n",
    "bert_corpus_embeddings = bert_embedder.encode(corpus)\n",
    "bert_query_embeddings = bert_embedder.encode(queries)\n",
    "\n",
    "mult_bert_uncased_corpus_embeddings = mult_bert_uncased_embedder.encode(corpus)\n",
    "mult_bert_uncased_query_embeddings = mult_bert_uncased_embedder.encode(queries)\n",
    "\n",
    "mult_distilbert_uncased_corpus_embeddings = mult_distilbert_uncased_embedder.encode(corpus)\n",
    "mult_distilbert_uncased_query_embeddings = mult_distilbert_uncased_embedder.encode(queries)"
   ]
  },
  {
   "cell_type": "markdown",
   "metadata": {},
   "source": [
    "# Distiluse results"
   ]
  },
  {
   "cell_type": "code",
   "execution_count": 9,
   "metadata": {},
   "outputs": [
    {
     "name": "stdout",
     "output_type": "stream",
     "text": [
      "\n",
      "\n",
      "======================\n",
      "\n",
      "\n",
      "Query: Færre enn fem var på venterommet sammen med denne personen, og de er informert om at det kan ha vært en smittesituasjon.\n",
      "\n",
      "Top 5 most similar sentences in corpus:\n",
      "På døren utenfor legevakten i Trondheim blir personer som tror de kan være smittet av coronaviruset, bedt om å vente utenfor og bruke ringeklokken . (Score: 0.6394)\n",
      "Nå har hun bodd på gaten i åtte måneder. (Score: 0.5088)\n",
      "De vordende foreldrene er lettet over å få tilbringe natten under et tak. (Score: 0.4775)\n",
      "Legevakten i Trondheim ble onsdag ettermiddag delvis stengt. (Score: 0.3362)\n",
      "58 personer var inntil tirsdag testet for coronaviruset i Norge. (Score: 0.2567)\n",
      "\n",
      "\n",
      "======================\n",
      "\n",
      "\n",
      "Query: Tyrkia får norsk kritikk for Syria-aksjoner.\n",
      "\n",
      "Top 5 most similar sentences in corpus:\n",
      "Tyrkias militære aksjoner inne i Syria får kritikk fra den norske forsvarsministeren Frank Bakke-Jensen. (Score: 0.6853)\n",
      "NATO-sjef Jens Stoltenberg fordømte også Syria og Russlands aksjoner, men kommenterte ikke Tyrkias militære handlinger. (Score: 0.5618)\n",
      "Nå har hun bodd på gaten i åtte måneder. (Score: 0.4086)\n",
      "På døren utenfor legevakten i Trondheim blir personer som tror de kan være smittet av coronaviruset, bedt om å vente utenfor og bruke ringeklokken . (Score: 0.3253)\n",
      "Tyrkias forsvarsminister Hulusi Akarg orienterte sine kolleger i NATO om situasjonen i Idlib-regionen på alliansens forsvarsministermøte i Brussel onsdag. (Score: 0.3103)\n",
      "\n",
      "\n",
      "======================\n",
      "\n",
      "\n",
      "Query: I tillegg ser mange ned på oss fordi vi er hjemløse.\n",
      "\n",
      "Top 5 most similar sentences in corpus:\n",
      "Nå har hun bodd på gaten i åtte måneder. (Score: 0.7335)\n",
      "På døren utenfor legevakten i Trondheim blir personer som tror de kan være smittet av coronaviruset, bedt om å vente utenfor og bruke ringeklokken . (Score: 0.6174)\n",
      "De vordende foreldrene er lettet over å få tilbringe natten under et tak. (Score: 0.5046)\n",
      "Legevakten i Trondheim ble onsdag ettermiddag delvis stengt. (Score: 0.3936)\n",
      "Kathy (31) er gravid og hjemløs. (Score: 0.3065)\n"
     ]
    }
   ],
   "source": [
    "get_top_5_closest(queries, corpus, distiluse_query_embeddings, distiluse_corpus_embeddings, top_n=5)"
   ]
  },
  {
   "cell_type": "code",
   "execution_count": 10,
   "metadata": {},
   "outputs": [
    {
     "name": "stdout",
     "output_type": "stream",
     "text": [
      "Cluster  1\n",
      "['Legevakten i Trondheim ble onsdag ettermiddag delvis stengt.', 'På døren utenfor legevakten i Trondheim blir personer som tror de kan være smittet av coronaviruset, bedt om å vente utenfor og bruke ringeklokken .', 'De vordende foreldrene er lettet over å få tilbringe natten under et tak.', 'Nå har hun bodd på gaten i åtte måneder.']\n",
      "\n",
      "Cluster  2\n",
      "['Tyrkias militære aksjoner inne i Syria får kritikk fra den norske forsvarsministeren Frank Bakke-Jensen.', 'NATO-sjef Jens Stoltenberg fordømte også Syria og Russlands aksjoner, men kommenterte ikke Tyrkias militære handlinger.']\n",
      "\n",
      "Cluster  3\n",
      "['58 personer var inntil tirsdag testet for coronaviruset i Norge.']\n",
      "\n",
      "Cluster  4\n",
      "['Kathy (31) er gravid og hjemløs.']\n",
      "\n",
      "Cluster  5\n",
      "['Tyrkias forsvarsminister Hulusi Akarg orienterte sine kolleger i NATO om situasjonen i Idlib-regionen på alliansens forsvarsministermøte i Brussel onsdag.']\n",
      "\n"
     ]
    }
   ],
   "source": [
    "print_clusters(get_cluster_embeddings(distiluse_corpus_embeddings), corpus)"
   ]
  },
  {
   "cell_type": "markdown",
   "metadata": {},
   "source": [
    "# BERT results"
   ]
  },
  {
   "cell_type": "code",
   "execution_count": 11,
   "metadata": {},
   "outputs": [
    {
     "name": "stdout",
     "output_type": "stream",
     "text": [
      "\n",
      "\n",
      "======================\n",
      "\n",
      "\n",
      "Query: Færre enn fem var på venterommet sammen med denne personen, og de er informert om at det kan ha vært en smittesituasjon.\n",
      "\n",
      "Top 5 most similar sentences in corpus:\n",
      "De vordende foreldrene er lettet over å få tilbringe natten under et tak. (Score: 0.8958)\n",
      "Nå har hun bodd på gaten i åtte måneder. (Score: 0.8429)\n",
      "Tyrkias forsvarsminister Hulusi Akarg orienterte sine kolleger i NATO om situasjonen i Idlib-regionen på alliansens forsvarsministermøte i Brussel onsdag. (Score: 0.8236)\n",
      "Legevakten i Trondheim ble onsdag ettermiddag delvis stengt. (Score: 0.8192)\n",
      "Tyrkias militære aksjoner inne i Syria får kritikk fra den norske forsvarsministeren Frank Bakke-Jensen. (Score: 0.7443)\n",
      "\n",
      "\n",
      "======================\n",
      "\n",
      "\n",
      "Query: Tyrkia får norsk kritikk for Syria-aksjoner.\n",
      "\n",
      "Top 5 most similar sentences in corpus:\n",
      "Tyrkias militære aksjoner inne i Syria får kritikk fra den norske forsvarsministeren Frank Bakke-Jensen. (Score: 0.8748)\n",
      "NATO-sjef Jens Stoltenberg fordømte også Syria og Russlands aksjoner, men kommenterte ikke Tyrkias militære handlinger. (Score: 0.7731)\n",
      "Legevakten i Trondheim ble onsdag ettermiddag delvis stengt. (Score: 0.6797)\n",
      "Tyrkias forsvarsminister Hulusi Akarg orienterte sine kolleger i NATO om situasjonen i Idlib-regionen på alliansens forsvarsministermøte i Brussel onsdag. (Score: 0.6760)\n",
      "På døren utenfor legevakten i Trondheim blir personer som tror de kan være smittet av coronaviruset, bedt om å vente utenfor og bruke ringeklokken . (Score: 0.6688)\n",
      "\n",
      "\n",
      "======================\n",
      "\n",
      "\n",
      "Query: I tillegg ser mange ned på oss fordi vi er hjemløse.\n",
      "\n",
      "Top 5 most similar sentences in corpus:\n",
      "Legevakten i Trondheim ble onsdag ettermiddag delvis stengt. (Score: 0.8049)\n",
      "Nå har hun bodd på gaten i åtte måneder. (Score: 0.7940)\n",
      "De vordende foreldrene er lettet over å få tilbringe natten under et tak. (Score: 0.7906)\n",
      "Tyrkias forsvarsminister Hulusi Akarg orienterte sine kolleger i NATO om situasjonen i Idlib-regionen på alliansens forsvarsministermøte i Brussel onsdag. (Score: 0.7402)\n",
      "Tyrkias militære aksjoner inne i Syria får kritikk fra den norske forsvarsministeren Frank Bakke-Jensen. (Score: 0.7123)\n"
     ]
    }
   ],
   "source": [
    "get_top_5_closest(queries, corpus, bert_query_embeddings, bert_corpus_embeddings, top_n=5)"
   ]
  },
  {
   "cell_type": "code",
   "execution_count": 12,
   "metadata": {},
   "outputs": [
    {
     "name": "stdout",
     "output_type": "stream",
     "text": [
      "Cluster  1\n",
      "['De vordende foreldrene er lettet over å få tilbringe natten under et tak.', 'Nå har hun bodd på gaten i åtte måneder.']\n",
      "\n",
      "Cluster  2\n",
      "['58 personer var inntil tirsdag testet for coronaviruset i Norge.', 'På døren utenfor legevakten i Trondheim blir personer som tror de kan være smittet av coronaviruset, bedt om å vente utenfor og bruke ringeklokken .']\n",
      "\n",
      "Cluster  3\n",
      "['Tyrkias militære aksjoner inne i Syria får kritikk fra den norske forsvarsministeren Frank Bakke-Jensen.', 'Tyrkias forsvarsminister Hulusi Akarg orienterte sine kolleger i NATO om situasjonen i Idlib-regionen på alliansens forsvarsministermøte i Brussel onsdag.', 'NATO-sjef Jens Stoltenberg fordømte også Syria og Russlands aksjoner, men kommenterte ikke Tyrkias militære handlinger.']\n",
      "\n",
      "Cluster  4\n",
      "['Legevakten i Trondheim ble onsdag ettermiddag delvis stengt.']\n",
      "\n",
      "Cluster  5\n",
      "['Kathy (31) er gravid og hjemløs.']\n",
      "\n"
     ]
    }
   ],
   "source": [
    "print_clusters(get_cluster_embeddings(bert_corpus_embeddings), corpus)"
   ]
  },
  {
   "cell_type": "markdown",
   "metadata": {},
   "source": [
    "# Multilingual BERT uncased"
   ]
  },
  {
   "cell_type": "code",
   "execution_count": 13,
   "metadata": {},
   "outputs": [
    {
     "name": "stdout",
     "output_type": "stream",
     "text": [
      "\n",
      "\n",
      "======================\n",
      "\n",
      "\n",
      "Query: Færre enn fem var på venterommet sammen med denne personen, og de er informert om at det kan ha vært en smittesituasjon.\n",
      "\n",
      "Top 5 most similar sentences in corpus:\n",
      "På døren utenfor legevakten i Trondheim blir personer som tror de kan være smittet av coronaviruset, bedt om å vente utenfor og bruke ringeklokken . (Score: 0.8778)\n",
      "58 personer var inntil tirsdag testet for coronaviruset i Norge. (Score: 0.7968)\n",
      "Legevakten i Trondheim ble onsdag ettermiddag delvis stengt. (Score: 0.7744)\n",
      "Tyrkias militære aksjoner inne i Syria får kritikk fra den norske forsvarsministeren Frank Bakke-Jensen. (Score: 0.7743)\n",
      "Nå har hun bodd på gaten i åtte måneder. (Score: 0.7732)\n",
      "\n",
      "\n",
      "======================\n",
      "\n",
      "\n",
      "Query: Tyrkia får norsk kritikk for Syria-aksjoner.\n",
      "\n",
      "Top 5 most similar sentences in corpus:\n",
      "Tyrkias militære aksjoner inne i Syria får kritikk fra den norske forsvarsministeren Frank Bakke-Jensen. (Score: 0.8851)\n",
      "NATO-sjef Jens Stoltenberg fordømte også Syria og Russlands aksjoner, men kommenterte ikke Tyrkias militære handlinger. (Score: 0.8243)\n",
      "Tyrkias forsvarsminister Hulusi Akarg orienterte sine kolleger i NATO om situasjonen i Idlib-regionen på alliansens forsvarsministermøte i Brussel onsdag. (Score: 0.7951)\n",
      "På døren utenfor legevakten i Trondheim blir personer som tror de kan være smittet av coronaviruset, bedt om å vente utenfor og bruke ringeklokken . (Score: 0.7256)\n",
      "58 personer var inntil tirsdag testet for coronaviruset i Norge. (Score: 0.7163)\n",
      "\n",
      "\n",
      "======================\n",
      "\n",
      "\n",
      "Query: I tillegg ser mange ned på oss fordi vi er hjemløse.\n",
      "\n",
      "Top 5 most similar sentences in corpus:\n",
      "Kathy (31) er gravid og hjemløs. (Score: 0.7584)\n",
      "Nå har hun bodd på gaten i åtte måneder. (Score: 0.7548)\n",
      "På døren utenfor legevakten i Trondheim blir personer som tror de kan være smittet av coronaviruset, bedt om å vente utenfor og bruke ringeklokken . (Score: 0.7465)\n",
      "De vordende foreldrene er lettet over å få tilbringe natten under et tak. (Score: 0.7016)\n",
      "58 personer var inntil tirsdag testet for coronaviruset i Norge. (Score: 0.6566)\n"
     ]
    }
   ],
   "source": [
    "get_top_5_closest(queries, corpus, mult_bert_uncased_query_embeddings, mult_bert_uncased_corpus_embeddings, top_n=5)"
   ]
  },
  {
   "cell_type": "code",
   "execution_count": 27,
   "metadata": {},
   "outputs": [
    {
     "name": "stdout",
     "output_type": "stream",
     "text": [
      "Cluster  1\n",
      "['Kathy (31) er gravid og hjemløs.', 'Nå har hun bodd på gaten i åtte måneder.']\n",
      "\n",
      "Cluster  2\n",
      "['Tyrkias militære aksjoner inne i Syria får kritikk fra den norske forsvarsministeren Frank Bakke-Jensen.', 'Tyrkias forsvarsminister Hulusi Akarg orienterte sine kolleger i NATO om situasjonen i Idlib-regionen på alliansens forsvarsministermøte i Brussel onsdag.', 'NATO-sjef Jens Stoltenberg fordømte også Syria og Russlands aksjoner, men kommenterte ikke Tyrkias militære handlinger.']\n",
      "\n",
      "Cluster  3\n",
      "['58 personer var inntil tirsdag testet for coronaviruset i Norge.', 'På døren utenfor legevakten i Trondheim blir personer som tror de kan være smittet av coronaviruset, bedt om å vente utenfor og bruke ringeklokken .']\n",
      "\n",
      "Cluster  4\n",
      "['Legevakten i Trondheim ble onsdag ettermiddag delvis stengt.']\n",
      "\n",
      "Cluster  5\n",
      "['De vordende foreldrene er lettet over å få tilbringe natten under et tak.']\n",
      "\n"
     ]
    }
   ],
   "source": [
    "print_clusters(get_cluster_embeddings(mult_bert_uncased_corpus_embeddings), corpus)"
   ]
  },
  {
   "cell_type": "markdown",
   "metadata": {},
   "source": [
    "# Multilingual DistilBERT cased - Recommended"
   ]
  },
  {
   "cell_type": "code",
   "execution_count": 28,
   "metadata": {},
   "outputs": [
    {
     "name": "stdout",
     "output_type": "stream",
     "text": [
      "\n",
      "\n",
      "======================\n",
      "\n",
      "\n",
      "Query: Færre enn fem var på venterommet sammen med denne personen, og de er informert om at det kan ha vært en smittesituasjon.\n",
      "\n",
      "Top 5 most similar sentences in corpus:\n",
      "På døren utenfor legevakten i Trondheim blir personer som tror de kan være smittet av coronaviruset, bedt om å vente utenfor og bruke ringeklokken . (Score: 0.8656)\n",
      "58 personer var inntil tirsdag testet for coronaviruset i Norge. (Score: 0.8468)\n",
      "NATO-sjef Jens Stoltenberg fordømte også Syria og Russlands aksjoner, men kommenterte ikke Tyrkias militære handlinger. (Score: 0.7933)\n",
      "De vordende foreldrene er lettet over å få tilbringe natten under et tak. (Score: 0.7905)\n",
      "Tyrkias militære aksjoner inne i Syria får kritikk fra den norske forsvarsministeren Frank Bakke-Jensen. (Score: 0.7851)\n",
      "\n",
      "\n",
      "======================\n",
      "\n",
      "\n",
      "Query: Tyrkia får norsk kritikk for Syria-aksjoner.\n",
      "\n",
      "Top 5 most similar sentences in corpus:\n",
      "Tyrkias militære aksjoner inne i Syria får kritikk fra den norske forsvarsministeren Frank Bakke-Jensen. (Score: 0.9023)\n",
      "NATO-sjef Jens Stoltenberg fordømte også Syria og Russlands aksjoner, men kommenterte ikke Tyrkias militære handlinger. (Score: 0.8377)\n",
      "Tyrkias forsvarsminister Hulusi Akarg orienterte sine kolleger i NATO om situasjonen i Idlib-regionen på alliansens forsvarsministermøte i Brussel onsdag. (Score: 0.8119)\n",
      "På døren utenfor legevakten i Trondheim blir personer som tror de kan være smittet av coronaviruset, bedt om å vente utenfor og bruke ringeklokken . (Score: 0.7038)\n",
      "58 personer var inntil tirsdag testet for coronaviruset i Norge. (Score: 0.6826)\n",
      "\n",
      "\n",
      "======================\n",
      "\n",
      "\n",
      "Query: I tillegg ser mange ned på oss fordi vi er hjemløse.\n",
      "\n",
      "Top 5 most similar sentences in corpus:\n",
      "De vordende foreldrene er lettet over å få tilbringe natten under et tak. (Score: 0.8053)\n",
      "På døren utenfor legevakten i Trondheim blir personer som tror de kan være smittet av coronaviruset, bedt om å vente utenfor og bruke ringeklokken . (Score: 0.7879)\n",
      "Kathy (31) er gravid og hjemløs. (Score: 0.7537)\n",
      "Nå har hun bodd på gaten i åtte måneder. (Score: 0.7487)\n",
      "Legevakten i Trondheim ble onsdag ettermiddag delvis stengt. (Score: 0.7431)\n"
     ]
    }
   ],
   "source": [
    "get_top_5_closest(queries, corpus, mult_distilbert_uncased_query_embeddings, mult_distilbert_uncased_corpus_embeddings, top_n=5)"
   ]
  },
  {
   "cell_type": "code",
   "execution_count": 29,
   "metadata": {},
   "outputs": [
    {
     "name": "stdout",
     "output_type": "stream",
     "text": [
      "Cluster  1\n",
      "['Kathy (31) er gravid og hjemløs.']\n",
      "\n",
      "Cluster  2\n",
      "['Tyrkias militære aksjoner inne i Syria får kritikk fra den norske forsvarsministeren Frank Bakke-Jensen.', 'Tyrkias forsvarsminister Hulusi Akarg orienterte sine kolleger i NATO om situasjonen i Idlib-regionen på alliansens forsvarsministermøte i Brussel onsdag.', 'NATO-sjef Jens Stoltenberg fordømte også Syria og Russlands aksjoner, men kommenterte ikke Tyrkias militære handlinger.']\n",
      "\n",
      "Cluster  3\n",
      "['De vordende foreldrene er lettet over å få tilbringe natten under et tak.', 'Nå har hun bodd på gaten i åtte måneder.']\n",
      "\n",
      "Cluster  4\n",
      "['58 personer var inntil tirsdag testet for coronaviruset i Norge.']\n",
      "\n",
      "Cluster  5\n",
      "['Legevakten i Trondheim ble onsdag ettermiddag delvis stengt.', 'På døren utenfor legevakten i Trondheim blir personer som tror de kan være smittet av coronaviruset, bedt om å vente utenfor og bruke ringeklokken .']\n",
      "\n"
     ]
    }
   ],
   "source": [
    "print_clusters(get_cluster_embeddings(mult_distilbert_uncased_corpus_embeddings), corpus)"
   ]
  },
  {
   "cell_type": "code",
   "execution_count": null,
   "metadata": {},
   "outputs": [],
   "source": []
  }
 ],
 "metadata": {
  "kernelspec": {
   "display_name": "Python 3",
   "language": "python",
   "name": "python3"
  },
  "language_info": {
   "codemirror_mode": {
    "name": "ipython",
    "version": 3
   },
   "file_extension": ".py",
   "mimetype": "text/x-python",
   "name": "python",
   "nbconvert_exporter": "python",
   "pygments_lexer": "ipython3",
   "version": "3.7.1"
  }
 },
 "nbformat": 4,
 "nbformat_minor": 4
}
